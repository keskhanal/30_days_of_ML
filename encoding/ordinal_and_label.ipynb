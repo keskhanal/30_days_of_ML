{
 "cells": [
  {
   "cell_type": "markdown",
   "id": "9fdc5aca",
   "metadata": {},
   "source": [
    "## Import libraries"
   ]
  },
  {
   "cell_type": "code",
   "execution_count": null,
   "id": "a226d101",
   "metadata": {},
   "outputs": [],
   "source": [
    "import pandas as pd\n",
    "import numpy as np"
   ]
  },
  {
   "cell_type": "code",
   "execution_count": null,
   "id": "69fac193",
   "metadata": {},
   "outputs": [],
   "source": [
    "#load dataset\n",
    "df = pd.read_csv(\"data/customer.csv\")\n",
    "df.head()"
   ]
  },
  {
   "cell_type": "code",
   "execution_count": null,
   "id": "f2b096ce",
   "metadata": {
    "scrolled": true
   },
   "outputs": [],
   "source": [
    "#taking only review, education and purchased column\n",
    "df = df.iloc[:, 2: ]\n",
    "df.head()"
   ]
  },
  {
   "cell_type": "code",
   "execution_count": null,
   "id": "c6fb34b9",
   "metadata": {},
   "outputs": [],
   "source": [
    "print(df.education.unique())\n",
    "print(df.review.unique())"
   ]
  },
  {
   "cell_type": "markdown",
   "id": "66717886",
   "metadata": {},
   "source": [
    "## Spliting data into train and test set"
   ]
  },
  {
   "cell_type": "code",
   "execution_count": null,
   "id": "7705a072",
   "metadata": {},
   "outputs": [],
   "source": [
    "X = df.drop(\"purchased\", axis=1)\n",
    "y = df[\"purchased\"]"
   ]
  },
  {
   "cell_type": "code",
   "execution_count": null,
   "id": "38175631",
   "metadata": {},
   "outputs": [],
   "source": [
    "from sklearn.model_selection import train_test_split\n",
    "\n",
    "X_train, X_test, y_train, y_test = train_test_split(X, y, test_size=0.2, random_state=2)\n",
    "\n",
    "X_train.shape, X_test.shape"
   ]
  },
  {
   "cell_type": "markdown",
   "id": "14f5fad2",
   "metadata": {},
   "source": [
    "## Ordinal Encoding"
   ]
  },
  {
   "cell_type": "code",
   "execution_count": null,
   "id": "d033dd39",
   "metadata": {},
   "outputs": [],
   "source": [
    "from sklearn.preprocessing import OrdinalEncoder\n",
    "\n",
    "oe = OrdinalEncoder(categories=[['Poor','Average','Good'],['School','UG','PG']])\n",
    "\n",
    "oe.fit(X_train)"
   ]
  },
  {
   "cell_type": "code",
   "execution_count": null,
   "id": "0bc35b9b",
   "metadata": {},
   "outputs": [],
   "source": [
    "X_train_encoded = oe.transform(X_train)\n",
    "X_test_encoded = oe.transform(X_test)"
   ]
  },
  {
   "cell_type": "code",
   "execution_count": null,
   "id": "87fb4ac2",
   "metadata": {},
   "outputs": [],
   "source": [
    "oe.categories_"
   ]
  },
  {
   "cell_type": "code",
   "execution_count": null,
   "id": "b2c559eb",
   "metadata": {},
   "outputs": [],
   "source": [
    "X_train_encoded = pd.DataFrame(X_train_encoded, columns=X_train.columns)\n",
    "X_test_encoded = pd.DataFrame(X_test_encoded, columns=X_test.columns)"
   ]
  },
  {
   "cell_type": "code",
   "execution_count": null,
   "id": "14460d08",
   "metadata": {},
   "outputs": [],
   "source": [
    "X_train_encoded"
   ]
  },
  {
   "cell_type": "code",
   "execution_count": null,
   "id": "55310721",
   "metadata": {},
   "outputs": [],
   "source": [
    "X_test_encoded"
   ]
  },
  {
   "cell_type": "markdown",
   "id": "2929b4a3",
   "metadata": {},
   "source": [
    "## Encoding target data (Label encoder)"
   ]
  },
  {
   "cell_type": "code",
   "execution_count": null,
   "id": "81216f14",
   "metadata": {},
   "outputs": [],
   "source": [
    "from sklearn.preprocessing import LabelEncoder\n",
    "\n",
    "le = LabelEncoder()\n",
    "\n",
    "le.fit(y_train)"
   ]
  },
  {
   "cell_type": "code",
   "execution_count": null,
   "id": "5feb7f23",
   "metadata": {},
   "outputs": [],
   "source": [
    "le.classes_"
   ]
  },
  {
   "cell_type": "code",
   "execution_count": null,
   "id": "d8c358c9",
   "metadata": {},
   "outputs": [],
   "source": [
    "y_train = le.transform(y_train)\n",
    "y_test = le.transform(y_test)"
   ]
  },
  {
   "cell_type": "code",
   "execution_count": null,
   "id": "9164758a",
   "metadata": {},
   "outputs": [],
   "source": [
    "y_train"
   ]
  },
  {
   "cell_type": "code",
   "execution_count": null,
   "id": "feb237a9",
   "metadata": {},
   "outputs": [],
   "source": [
    "y_test"
   ]
  },
  {
   "cell_type": "markdown",
   "id": "38e86c84",
   "metadata": {},
   "source": [
    "### Note:\n",
    "* Ordinal encoding - to encode ordinal value in input data\n",
    "* Label encoding - to encode target data"
   ]
  }
 ],
 "metadata": {
  "kernelspec": {
   "display_name": "Python 3 (ipykernel)",
   "language": "python",
   "name": "python3"
  },
  "language_info": {
   "codemirror_mode": {
    "name": "ipython",
    "version": 3
   },
   "file_extension": ".py",
   "mimetype": "text/x-python",
   "name": "python",
   "nbconvert_exporter": "python",
   "pygments_lexer": "ipython3",
   "version": "3.9.12"
  }
 },
 "nbformat": 4,
 "nbformat_minor": 5
}
