{
 "cells": [
  {
   "cell_type": "code",
   "execution_count": 1,
   "id": "5dd83e90",
   "metadata": {},
   "outputs": [],
   "source": [
    "#import libraries\n",
    "import pandas as pd\n",
    "import numpy as np\n",
    "\n",
    "import matplotlib.pyplot as plt"
   ]
  },
  {
   "cell_type": "code",
   "execution_count": 2,
   "id": "3def1907",
   "metadata": {},
   "outputs": [
    {
     "data": {
      "text/html": [
       "<div>\n",
       "<style scoped>\n",
       "    .dataframe tbody tr th:only-of-type {\n",
       "        vertical-align: middle;\n",
       "    }\n",
       "\n",
       "    .dataframe tbody tr th {\n",
       "        vertical-align: top;\n",
       "    }\n",
       "\n",
       "    .dataframe thead th {\n",
       "        text-align: right;\n",
       "    }\n",
       "</style>\n",
       "<table border=\"1\" class=\"dataframe\">\n",
       "  <thead>\n",
       "    <tr style=\"text-align: right;\">\n",
       "      <th></th>\n",
       "      <th>Age</th>\n",
       "      <th>Fare</th>\n",
       "      <th>Family</th>\n",
       "      <th>Survived</th>\n",
       "    </tr>\n",
       "  </thead>\n",
       "  <tbody>\n",
       "    <tr>\n",
       "      <th>0</th>\n",
       "      <td>22.0</td>\n",
       "      <td>7.2500</td>\n",
       "      <td>1</td>\n",
       "      <td>0</td>\n",
       "    </tr>\n",
       "    <tr>\n",
       "      <th>1</th>\n",
       "      <td>38.0</td>\n",
       "      <td>71.2833</td>\n",
       "      <td>1</td>\n",
       "      <td>1</td>\n",
       "    </tr>\n",
       "    <tr>\n",
       "      <th>2</th>\n",
       "      <td>26.0</td>\n",
       "      <td>7.9250</td>\n",
       "      <td>0</td>\n",
       "      <td>1</td>\n",
       "    </tr>\n",
       "    <tr>\n",
       "      <th>3</th>\n",
       "      <td>35.0</td>\n",
       "      <td>53.1000</td>\n",
       "      <td>1</td>\n",
       "      <td>1</td>\n",
       "    </tr>\n",
       "    <tr>\n",
       "      <th>4</th>\n",
       "      <td>35.0</td>\n",
       "      <td>8.0500</td>\n",
       "      <td>0</td>\n",
       "      <td>0</td>\n",
       "    </tr>\n",
       "  </tbody>\n",
       "</table>\n",
       "</div>"
      ],
      "text/plain": [
       "    Age     Fare  Family  Survived\n",
       "0  22.0   7.2500       1         0\n",
       "1  38.0  71.2833       1         1\n",
       "2  26.0   7.9250       0         1\n",
       "3  35.0  53.1000       1         1\n",
       "4  35.0   8.0500       0         0"
      ]
     },
     "execution_count": 2,
     "metadata": {},
     "output_type": "execute_result"
    }
   ],
   "source": [
    "#load dataset\n",
    "df = pd.read_csv(\"data/titanic_temp.csv\")\n",
    "df.head()"
   ]
  },
  {
   "cell_type": "code",
   "execution_count": 3,
   "id": "1b604f68",
   "metadata": {},
   "outputs": [
    {
     "data": {
      "text/plain": [
       "Age         19.865320\n",
       "Fare         5.050505\n",
       "Family       0.000000\n",
       "Survived     0.000000\n",
       "dtype: float64"
      ]
     },
     "execution_count": 3,
     "metadata": {},
     "output_type": "execute_result"
    }
   ],
   "source": [
    "df.isnull().mean()*100"
   ]
  },
  {
   "cell_type": "markdown",
   "id": "4ef474c8",
   "metadata": {},
   "source": [
    "### mean, median imputation"
   ]
  },
  {
   "cell_type": "markdown",
   "id": "06fb523c",
   "metadata": {},
   "source": [
    "Suitable for column having less than 5% missing values"
   ]
  },
  {
   "cell_type": "code",
   "execution_count": 4,
   "id": "07174028",
   "metadata": {},
   "outputs": [],
   "source": [
    "df_mm = df.copy()"
   ]
  },
  {
   "cell_type": "code",
   "execution_count": 5,
   "id": "05d534df",
   "metadata": {},
   "outputs": [],
   "source": [
    "mean_age = df_mm['Age'].mean()\n",
    "median_age = df_mm['Age'].median()\n",
    "\n",
    "mean_fare = df_mm['Fare'].mean()\n",
    "median_fare = df_mm['Fare'].median()"
   ]
  },
  {
   "cell_type": "code",
   "execution_count": 6,
   "id": "ffd18c25",
   "metadata": {},
   "outputs": [],
   "source": [
    "df_mm['Age_median'] = df_mm['Age'].fillna(median_age)\n",
    "df_mm['Age_mean'] = df_mm['Age'].fillna(mean_age)\n",
    "\n",
    "df_mm['Fare_median'] = df_mm['Fare'].fillna(median_fare)\n",
    "df_mm['Fare_mean'] = df_mm['Fare'].fillna(mean_fare)"
   ]
  },
  {
   "cell_type": "code",
   "execution_count": 7,
   "id": "229cffe3",
   "metadata": {},
   "outputs": [
    {
     "data": {
      "text/html": [
       "<div>\n",
       "<style scoped>\n",
       "    .dataframe tbody tr th:only-of-type {\n",
       "        vertical-align: middle;\n",
       "    }\n",
       "\n",
       "    .dataframe tbody tr th {\n",
       "        vertical-align: top;\n",
       "    }\n",
       "\n",
       "    .dataframe thead th {\n",
       "        text-align: right;\n",
       "    }\n",
       "</style>\n",
       "<table border=\"1\" class=\"dataframe\">\n",
       "  <thead>\n",
       "    <tr style=\"text-align: right;\">\n",
       "      <th></th>\n",
       "      <th>Age</th>\n",
       "      <th>Fare</th>\n",
       "      <th>Family</th>\n",
       "      <th>Survived</th>\n",
       "      <th>Age_median</th>\n",
       "      <th>Age_mean</th>\n",
       "      <th>Fare_median</th>\n",
       "      <th>Fare_mean</th>\n",
       "    </tr>\n",
       "  </thead>\n",
       "  <tbody>\n",
       "    <tr>\n",
       "      <th>752</th>\n",
       "      <td>33.0</td>\n",
       "      <td>9.500</td>\n",
       "      <td>0</td>\n",
       "      <td>0</td>\n",
       "      <td>33.0</td>\n",
       "      <td>33.000000</td>\n",
       "      <td>9.500</td>\n",
       "      <td>9.500</td>\n",
       "    </tr>\n",
       "    <tr>\n",
       "      <th>460</th>\n",
       "      <td>48.0</td>\n",
       "      <td>26.550</td>\n",
       "      <td>0</td>\n",
       "      <td>1</td>\n",
       "      <td>48.0</td>\n",
       "      <td>48.000000</td>\n",
       "      <td>26.550</td>\n",
       "      <td>26.550</td>\n",
       "    </tr>\n",
       "    <tr>\n",
       "      <th>354</th>\n",
       "      <td>NaN</td>\n",
       "      <td>7.225</td>\n",
       "      <td>0</td>\n",
       "      <td>0</td>\n",
       "      <td>28.0</td>\n",
       "      <td>29.699118</td>\n",
       "      <td>7.225</td>\n",
       "      <td>7.225</td>\n",
       "    </tr>\n",
       "    <tr>\n",
       "      <th>348</th>\n",
       "      <td>3.0</td>\n",
       "      <td>15.900</td>\n",
       "      <td>2</td>\n",
       "      <td>1</td>\n",
       "      <td>3.0</td>\n",
       "      <td>3.000000</td>\n",
       "      <td>15.900</td>\n",
       "      <td>15.900</td>\n",
       "    </tr>\n",
       "    <tr>\n",
       "      <th>201</th>\n",
       "      <td>NaN</td>\n",
       "      <td>69.550</td>\n",
       "      <td>10</td>\n",
       "      <td>0</td>\n",
       "      <td>28.0</td>\n",
       "      <td>29.699118</td>\n",
       "      <td>69.550</td>\n",
       "      <td>69.550</td>\n",
       "    </tr>\n",
       "  </tbody>\n",
       "</table>\n",
       "</div>"
      ],
      "text/plain": [
       "      Age    Fare  Family  Survived  Age_median   Age_mean  Fare_median  \\\n",
       "752  33.0   9.500       0         0        33.0  33.000000        9.500   \n",
       "460  48.0  26.550       0         1        48.0  48.000000       26.550   \n",
       "354   NaN   7.225       0         0        28.0  29.699118        7.225   \n",
       "348   3.0  15.900       2         1         3.0   3.000000       15.900   \n",
       "201   NaN  69.550      10         0        28.0  29.699118       69.550   \n",
       "\n",
       "     Fare_mean  \n",
       "752      9.500  \n",
       "460     26.550  \n",
       "354      7.225  \n",
       "348     15.900  \n",
       "201     69.550  "
      ]
     },
     "execution_count": 7,
     "metadata": {},
     "output_type": "execute_result"
    }
   ],
   "source": [
    "df_mm.sample(5)"
   ]
  },
  {
   "cell_type": "code",
   "execution_count": 8,
   "id": "ee31d219",
   "metadata": {},
   "outputs": [
    {
     "name": "stdout",
     "output_type": "stream",
     "text": [
      "Original Age variable variance:  211.0191247463081\n",
      "Age Variance after median imputation:  169.51249827942328\n",
      "Age Variance after mean imputation:  169.05239993721085\n",
      "Original Fare variable variance:  2530.6730768999487\n",
      "Fare Variance after median imputation:  2417.971599672526\n",
      "Fare Variance after mean imputation:  2402.717696607255\n"
     ]
    }
   ],
   "source": [
    "#check variance before and after imputation\n",
    "print('Original Age variable variance: ', df_mm['Age'].var())\n",
    "print('Age Variance after median imputation: ', df_mm['Age_median'].var())\n",
    "print('Age Variance after mean imputation: ', df_mm['Age_mean'].var())\n",
    "\n",
    "print('Original Fare variable variance: ', df_mm['Fare'].var())\n",
    "print('Fare Variance after median imputation: ', df_mm['Fare_median'].var())\n",
    "print('Fare Variance after mean imputation: ', df_mm['Fare_mean'].var())"
   ]
  },
  {
   "cell_type": "code",
   "execution_count": 9,
   "id": "ef8beefd",
   "metadata": {},
   "outputs": [
    {
     "data": {
      "image/png": "[encoded data removed]",
      "text/plain": [
       "<Figure size 432x288 with 1 Axes>"
      ]
     },
     "metadata": {
      "needs_background": "light"
     },
     "output_type": "display_data"
    }
   ],
   "source": [
    "fig = plt.figure()\n",
    "ax = fig.add_subplot(111)\n",
    "\n",
    "# original variable distribution\n",
    "df_mm['Age'].plot(kind='kde', ax=ax)\n",
    "\n",
    "# variable imputed with the median\n",
    "df_mm['Age_median'].plot(kind='kde', ax=ax, color='red')\n",
    "\n",
    "# variable imputed with the mean\n",
    "df_mm['Age_mean'].plot(kind='kde', ax=ax, color='green')\n",
    "\n",
    "# add legends\n",
    "lines, labels = ax.get_legend_handles_labels()\n",
    "ax.legend(lines, labels, loc='best')\n",
    "plt.show()"
   ]
  },
  {
   "cell_type": "code",
   "execution_count": 10,
   "id": "c9cddfc8",
   "metadata": {},
   "outputs": [
    {
     "data": {
      "image/png": "[encoded data removed]",
      "text/plain": [
       "<Figure size 432x288 with 1 Axes>"
      ]
     },
     "metadata": {
      "needs_background": "light"
     },
     "output_type": "display_data"
    }
   ],
   "source": [
    "fig = plt.figure()\n",
    "ax = fig.add_subplot(111)\n",
    "\n",
    "# original variable distribution\n",
    "df_mm['Fare'].plot(kind='kde', ax=ax)\n",
    "\n",
    "# variable imputed with the median\n",
    "df_mm['Fare_median'].plot(kind='kde', ax=ax, color='red')\n",
    "\n",
    "# variable imputed with the mean\n",
    "df_mm['Fare_mean'].plot(kind='kde', ax=ax, color='green')\n",
    "\n",
    "# add legends\n",
    "lines, labels = ax.get_legend_handles_labels()\n",
    "ax.legend(lines, labels, loc='best')\n",
    "plt.show()"
   ]
  },
  {
   "cell_type": "code",
   "execution_count": 11,
   "id": "a47bdefb",
   "metadata": {},
   "outputs": [
    {
     "data": {
      "text/html": [
       "<div>\n",
       "<style scoped>\n",
       "    .dataframe tbody tr th:only-of-type {\n",
       "        vertical-align: middle;\n",
       "    }\n",
       "\n",
       "    .dataframe tbody tr th {\n",
       "        vertical-align: top;\n",
       "    }\n",
       "\n",
       "    .dataframe thead th {\n",
       "        text-align: right;\n",
       "    }\n",
       "</style>\n",
       "<table border=\"1\" class=\"dataframe\">\n",
       "  <thead>\n",
       "    <tr style=\"text-align: right;\">\n",
       "      <th></th>\n",
       "      <th>Age</th>\n",
       "      <th>Fare</th>\n",
       "      <th>Family</th>\n",
       "      <th>Survived</th>\n",
       "      <th>Age_median</th>\n",
       "      <th>Age_mean</th>\n",
       "      <th>Fare_median</th>\n",
       "      <th>Fare_mean</th>\n",
       "    </tr>\n",
       "  </thead>\n",
       "  <tbody>\n",
       "    <tr>\n",
       "      <th>Age</th>\n",
       "      <td>211.019125</td>\n",
       "      <td>78.071438</td>\n",
       "      <td>-6.507525</td>\n",
       "      <td>-0.551296</td>\n",
       "      <td>211.019125</td>\n",
       "      <td>211.019125</td>\n",
       "      <td>73.196997</td>\n",
       "      <td>73.727862</td>\n",
       "    </tr>\n",
       "    <tr>\n",
       "      <th>Fare</th>\n",
       "      <td>78.071438</td>\n",
       "      <td>2530.673077</td>\n",
       "      <td>17.460363</td>\n",
       "      <td>6.442361</td>\n",
       "      <td>65.546143</td>\n",
       "      <td>62.210610</td>\n",
       "      <td>2530.673077</td>\n",
       "      <td>2530.673077</td>\n",
       "    </tr>\n",
       "    <tr>\n",
       "      <th>Family</th>\n",
       "      <td>-6.507525</td>\n",
       "      <td>17.460363</td>\n",
       "      <td>2.603248</td>\n",
       "      <td>0.013063</td>\n",
       "      <td>-5.159658</td>\n",
       "      <td>-5.213332</td>\n",
       "      <td>16.611725</td>\n",
       "      <td>16.577535</td>\n",
       "    </tr>\n",
       "    <tr>\n",
       "      <th>Survived</th>\n",
       "      <td>-0.551296</td>\n",
       "      <td>6.442361</td>\n",
       "      <td>0.013063</td>\n",
       "      <td>0.236772</td>\n",
       "      <td>-0.411226</td>\n",
       "      <td>-0.441656</td>\n",
       "      <td>6.021945</td>\n",
       "      <td>6.116624</td>\n",
       "    </tr>\n",
       "    <tr>\n",
       "      <th>Age_median</th>\n",
       "      <td>211.019125</td>\n",
       "      <td>65.546143</td>\n",
       "      <td>-5.159658</td>\n",
       "      <td>-0.411226</td>\n",
       "      <td>169.512498</td>\n",
       "      <td>169.052400</td>\n",
       "      <td>61.706696</td>\n",
       "      <td>62.232012</td>\n",
       "    </tr>\n",
       "    <tr>\n",
       "      <th>Age_mean</th>\n",
       "      <td>211.019125</td>\n",
       "      <td>62.210610</td>\n",
       "      <td>-5.213332</td>\n",
       "      <td>-0.441656</td>\n",
       "      <td>169.052400</td>\n",
       "      <td>169.052400</td>\n",
       "      <td>58.639842</td>\n",
       "      <td>59.065130</td>\n",
       "    </tr>\n",
       "    <tr>\n",
       "      <th>Fare_median</th>\n",
       "      <td>73.196997</td>\n",
       "      <td>2530.673077</td>\n",
       "      <td>16.611725</td>\n",
       "      <td>6.021945</td>\n",
       "      <td>61.706696</td>\n",
       "      <td>58.639842</td>\n",
       "      <td>2417.971600</td>\n",
       "      <td>2402.717697</td>\n",
       "    </tr>\n",
       "    <tr>\n",
       "      <th>Fare_mean</th>\n",
       "      <td>73.727862</td>\n",
       "      <td>2530.673077</td>\n",
       "      <td>16.577535</td>\n",
       "      <td>6.116624</td>\n",
       "      <td>62.232012</td>\n",
       "      <td>59.065130</td>\n",
       "      <td>2402.717697</td>\n",
       "      <td>2402.717697</td>\n",
       "    </tr>\n",
       "  </tbody>\n",
       "</table>\n",
       "</div>"
      ],
      "text/plain": [
       "                    Age         Fare     Family  Survived  Age_median  \\\n",
       "Age          211.019125    78.071438  -6.507525 -0.551296  211.019125   \n",
       "Fare          78.071438  2530.673077  17.460363  6.442361   65.546143   \n",
       "Family        -6.507525    17.460363   2.603248  0.013063   -5.159658   \n",
       "Survived      -0.551296     6.442361   0.013063  0.236772   -0.411226   \n",
       "Age_median   211.019125    65.546143  -5.159658 -0.411226  169.512498   \n",
       "Age_mean     211.019125    62.210610  -5.213332 -0.441656  169.052400   \n",
       "Fare_median   73.196997  2530.673077  16.611725  6.021945   61.706696   \n",
       "Fare_mean     73.727862  2530.673077  16.577535  6.116624   62.232012   \n",
       "\n",
       "               Age_mean  Fare_median    Fare_mean  \n",
       "Age          211.019125    73.196997    73.727862  \n",
       "Fare          62.210610  2530.673077  2530.673077  \n",
       "Family        -5.213332    16.611725    16.577535  \n",
       "Survived      -0.441656     6.021945     6.116624  \n",
       "Age_median   169.052400    61.706696    62.232012  \n",
       "Age_mean     169.052400    58.639842    59.065130  \n",
       "Fare_median   58.639842  2417.971600  2402.717697  \n",
       "Fare_mean     59.065130  2402.717697  2402.717697  "
      ]
     },
     "execution_count": 11,
     "metadata": {},
     "output_type": "execute_result"
    }
   ],
   "source": [
    "df_mm.cov()"
   ]
  },
  {
   "cell_type": "code",
   "execution_count": 12,
   "id": "7a8ed534",
   "metadata": {},
   "outputs": [
    {
     "data": {
      "text/html": [
       "<div>\n",
       "<style scoped>\n",
       "    .dataframe tbody tr th:only-of-type {\n",
       "        vertical-align: middle;\n",
       "    }\n",
       "\n",
       "    .dataframe tbody tr th {\n",
       "        vertical-align: top;\n",
       "    }\n",
       "\n",
       "    .dataframe thead th {\n",
       "        text-align: right;\n",
       "    }\n",
       "</style>\n",
       "<table border=\"1\" class=\"dataframe\">\n",
       "  <thead>\n",
       "    <tr style=\"text-align: right;\">\n",
       "      <th></th>\n",
       "      <th>Age</th>\n",
       "      <th>Fare</th>\n",
       "      <th>Family</th>\n",
       "      <th>Survived</th>\n",
       "      <th>Age_median</th>\n",
       "      <th>Age_mean</th>\n",
       "      <th>Fare_median</th>\n",
       "      <th>Fare_mean</th>\n",
       "    </tr>\n",
       "  </thead>\n",
       "  <tbody>\n",
       "    <tr>\n",
       "      <th>Age</th>\n",
       "      <td>1.000000</td>\n",
       "      <td>0.099481</td>\n",
       "      <td>-0.301914</td>\n",
       "      <td>-0.077221</td>\n",
       "      <td>1.000000</td>\n",
       "      <td>1.000000</td>\n",
       "      <td>0.096203</td>\n",
       "      <td>0.097273</td>\n",
       "    </tr>\n",
       "    <tr>\n",
       "      <th>Fare</th>\n",
       "      <td>0.099481</td>\n",
       "      <td>1.000000</td>\n",
       "      <td>0.212626</td>\n",
       "      <td>0.263920</td>\n",
       "      <td>0.099626</td>\n",
       "      <td>0.094681</td>\n",
       "      <td>1.000000</td>\n",
       "      <td>1.000000</td>\n",
       "    </tr>\n",
       "    <tr>\n",
       "      <th>Family</th>\n",
       "      <td>-0.301914</td>\n",
       "      <td>0.212626</td>\n",
       "      <td>1.000000</td>\n",
       "      <td>0.016639</td>\n",
       "      <td>-0.245619</td>\n",
       "      <td>-0.248512</td>\n",
       "      <td>0.209378</td>\n",
       "      <td>0.209609</td>\n",
       "    </tr>\n",
       "    <tr>\n",
       "      <th>Survived</th>\n",
       "      <td>-0.077221</td>\n",
       "      <td>0.263920</td>\n",
       "      <td>0.016639</td>\n",
       "      <td>1.000000</td>\n",
       "      <td>-0.064910</td>\n",
       "      <td>-0.069809</td>\n",
       "      <td>0.251678</td>\n",
       "      <td>0.256445</td>\n",
       "    </tr>\n",
       "    <tr>\n",
       "      <th>Age_median</th>\n",
       "      <td>1.000000</td>\n",
       "      <td>0.099626</td>\n",
       "      <td>-0.245619</td>\n",
       "      <td>-0.064910</td>\n",
       "      <td>1.000000</td>\n",
       "      <td>0.998642</td>\n",
       "      <td>0.096384</td>\n",
       "      <td>0.097513</td>\n",
       "    </tr>\n",
       "    <tr>\n",
       "      <th>Age_mean</th>\n",
       "      <td>1.000000</td>\n",
       "      <td>0.094681</td>\n",
       "      <td>-0.248512</td>\n",
       "      <td>-0.069809</td>\n",
       "      <td>0.998642</td>\n",
       "      <td>1.000000</td>\n",
       "      <td>0.091718</td>\n",
       "      <td>0.092676</td>\n",
       "    </tr>\n",
       "    <tr>\n",
       "      <th>Fare_median</th>\n",
       "      <td>0.096203</td>\n",
       "      <td>1.000000</td>\n",
       "      <td>0.209378</td>\n",
       "      <td>0.251678</td>\n",
       "      <td>0.096384</td>\n",
       "      <td>0.091718</td>\n",
       "      <td>1.000000</td>\n",
       "      <td>0.996841</td>\n",
       "    </tr>\n",
       "    <tr>\n",
       "      <th>Fare_mean</th>\n",
       "      <td>0.097273</td>\n",
       "      <td>1.000000</td>\n",
       "      <td>0.209609</td>\n",
       "      <td>0.256445</td>\n",
       "      <td>0.097513</td>\n",
       "      <td>0.092676</td>\n",
       "      <td>0.996841</td>\n",
       "      <td>1.000000</td>\n",
       "    </tr>\n",
       "  </tbody>\n",
       "</table>\n",
       "</div>"
      ],
      "text/plain": [
       "                  Age      Fare    Family  Survived  Age_median  Age_mean  \\\n",
       "Age          1.000000  0.099481 -0.301914 -0.077221    1.000000  1.000000   \n",
       "Fare         0.099481  1.000000  0.212626  0.263920    0.099626  0.094681   \n",
       "Family      -0.301914  0.212626  1.000000  0.016639   -0.245619 -0.248512   \n",
       "Survived    -0.077221  0.263920  0.016639  1.000000   -0.064910 -0.069809   \n",
       "Age_median   1.000000  0.099626 -0.245619 -0.064910    1.000000  0.998642   \n",
       "Age_mean     1.000000  0.094681 -0.248512 -0.069809    0.998642  1.000000   \n",
       "Fare_median  0.096203  1.000000  0.209378  0.251678    0.096384  0.091718   \n",
       "Fare_mean    0.097273  1.000000  0.209609  0.256445    0.097513  0.092676   \n",
       "\n",
       "             Fare_median  Fare_mean  \n",
       "Age             0.096203   0.097273  \n",
       "Fare            1.000000   1.000000  \n",
       "Family          0.209378   0.209609  \n",
       "Survived        0.251678   0.256445  \n",
       "Age_median      0.096384   0.097513  \n",
       "Age_mean        0.091718   0.092676  \n",
       "Fare_median     1.000000   0.996841  \n",
       "Fare_mean       0.996841   1.000000  "
      ]
     },
     "execution_count": 12,
     "metadata": {},
     "output_type": "execute_result"
    }
   ],
   "source": [
    "df_mm.corr()"
   ]
  },
  {
   "cell_type": "code",
   "execution_count": 13,
   "id": "79031c45",
   "metadata": {},
   "outputs": [
    {
     "data": {
      "image/png": "[encoded data removed]",
      "text/plain": [
       "<Figure size 432x288 with 1 Axes>"
      ]
     },
     "metadata": {
      "needs_background": "light"
     },
     "output_type": "display_data"
    }
   ],
   "source": [
    "#box plot for age column\n",
    "df_mm[['Age', 'Age_median', 'Age_mean']].boxplot()\n",
    "plt.show()"
   ]
  },
  {
   "cell_type": "code",
   "execution_count": 14,
   "id": "b626cc5d",
   "metadata": {
    "scrolled": true
   },
   "outputs": [
    {
     "data": {
      "image/png": "[encoded data removed]",
      "text/plain": [
       "<Figure size 432x288 with 1 Axes>"
      ]
     },
     "metadata": {
      "needs_background": "light"
     },
     "output_type": "display_data"
    }
   ],
   "source": [
    "#for fare column\n",
    "df_mm[['Fare', 'Fare_median', 'Fare_mean']].boxplot()\n",
    "plt.show()"
   ]
  },
  {
   "cell_type": "markdown",
   "id": "3fb31368",
   "metadata": {},
   "source": [
    "### arbitary value imputation"
   ]
  },
  {
   "cell_type": "code",
   "execution_count": 15,
   "id": "8e5eaff1",
   "metadata": {},
   "outputs": [],
   "source": [
    "df_ar = df.copy()"
   ]
  },
  {
   "cell_type": "code",
   "execution_count": 16,
   "id": "1c1876c1",
   "metadata": {},
   "outputs": [],
   "source": [
    "df_ar['Age_99'] = df_ar['Age'].fillna(99)\n",
    "df_ar['Age_minus1'] = df_ar['Age'].fillna(-1)\n",
    "\n",
    "df_ar['Fare_999'] = df_ar['Fare'].fillna(999)\n",
    "df_ar['Fare_minus1'] = df_ar['Fare'].fillna(-1)"
   ]
  },
  {
   "cell_type": "code",
   "execution_count": 17,
   "id": "7c74d3e3",
   "metadata": {},
   "outputs": [
    {
     "data": {
      "text/html": [
       "<div>\n",
       "<style scoped>\n",
       "    .dataframe tbody tr th:only-of-type {\n",
       "        vertical-align: middle;\n",
       "    }\n",
       "\n",
       "    .dataframe tbody tr th {\n",
       "        vertical-align: top;\n",
       "    }\n",
       "\n",
       "    .dataframe thead th {\n",
       "        text-align: right;\n",
       "    }\n",
       "</style>\n",
       "<table border=\"1\" class=\"dataframe\">\n",
       "  <thead>\n",
       "    <tr style=\"text-align: right;\">\n",
       "      <th></th>\n",
       "      <th>Age</th>\n",
       "      <th>Fare</th>\n",
       "      <th>Family</th>\n",
       "      <th>Survived</th>\n",
       "      <th>Age_99</th>\n",
       "      <th>Age_minus1</th>\n",
       "      <th>Fare_999</th>\n",
       "      <th>Fare_minus1</th>\n",
       "    </tr>\n",
       "  </thead>\n",
       "  <tbody>\n",
       "    <tr>\n",
       "      <th>108</th>\n",
       "      <td>38.0</td>\n",
       "      <td>7.8958</td>\n",
       "      <td>0</td>\n",
       "      <td>0</td>\n",
       "      <td>38.0</td>\n",
       "      <td>38.0</td>\n",
       "      <td>7.8958</td>\n",
       "      <td>7.8958</td>\n",
       "    </tr>\n",
       "    <tr>\n",
       "      <th>812</th>\n",
       "      <td>35.0</td>\n",
       "      <td>10.5000</td>\n",
       "      <td>0</td>\n",
       "      <td>0</td>\n",
       "      <td>35.0</td>\n",
       "      <td>35.0</td>\n",
       "      <td>10.5000</td>\n",
       "      <td>10.5000</td>\n",
       "    </tr>\n",
       "    <tr>\n",
       "      <th>542</th>\n",
       "      <td>11.0</td>\n",
       "      <td>31.2750</td>\n",
       "      <td>6</td>\n",
       "      <td>0</td>\n",
       "      <td>11.0</td>\n",
       "      <td>11.0</td>\n",
       "      <td>31.2750</td>\n",
       "      <td>31.2750</td>\n",
       "    </tr>\n",
       "    <tr>\n",
       "      <th>531</th>\n",
       "      <td>NaN</td>\n",
       "      <td>7.2292</td>\n",
       "      <td>0</td>\n",
       "      <td>0</td>\n",
       "      <td>99.0</td>\n",
       "      <td>-1.0</td>\n",
       "      <td>7.2292</td>\n",
       "      <td>7.2292</td>\n",
       "    </tr>\n",
       "    <tr>\n",
       "      <th>269</th>\n",
       "      <td>35.0</td>\n",
       "      <td>135.6333</td>\n",
       "      <td>0</td>\n",
       "      <td>1</td>\n",
       "      <td>35.0</td>\n",
       "      <td>35.0</td>\n",
       "      <td>135.6333</td>\n",
       "      <td>135.6333</td>\n",
       "    </tr>\n",
       "  </tbody>\n",
       "</table>\n",
       "</div>"
      ],
      "text/plain": [
       "      Age      Fare  Family  Survived  Age_99  Age_minus1  Fare_999  \\\n",
       "108  38.0    7.8958       0         0    38.0        38.0    7.8958   \n",
       "812  35.0   10.5000       0         0    35.0        35.0   10.5000   \n",
       "542  11.0   31.2750       6         0    11.0        11.0   31.2750   \n",
       "531   NaN    7.2292       0         0    99.0        -1.0    7.2292   \n",
       "269  35.0  135.6333       0         1    35.0        35.0  135.6333   \n",
       "\n",
       "     Fare_minus1  \n",
       "108       7.8958  \n",
       "812      10.5000  \n",
       "542      31.2750  \n",
       "531       7.2292  \n",
       "269     135.6333  "
      ]
     },
     "execution_count": 17,
     "metadata": {},
     "output_type": "execute_result"
    }
   ],
   "source": [
    "df_ar.sample(5)"
   ]
  },
  {
   "cell_type": "code",
   "execution_count": 18,
   "id": "dfa08768",
   "metadata": {},
   "outputs": [
    {
     "name": "stdout",
     "output_type": "stream",
     "text": [
      "Original Age variable variance:  211.0191247463081\n",
      "Age Variance after 99 wala imputation:  934.4397775893746\n",
      "Age Variance after -1 wala imputation:  319.24742711837445\n",
      "Original Fare variable variance:  2530.6730768999487\n",
      "Fare Variance after 999 wala imputation:  47268.69867189274\n",
      "Fare Variance after -1 wala imputation:  2455.887435937784\n"
     ]
    }
   ],
   "source": [
    "print('Original Age variable variance: ', df_ar['Age'].var())\n",
    "print('Age Variance after 99 wala imputation: ', df_ar['Age_99'].var())\n",
    "print('Age Variance after -1 wala imputation: ', df_ar['Age_minus1'].var())\n",
    "\n",
    "print('Original Fare variable variance: ', df_ar['Fare'].var())\n",
    "print('Fare Variance after 999 wala imputation: ', df_ar['Fare_999'].var())\n",
    "print('Fare Variance after -1 wala imputation: ', df_ar['Fare_minus1'].var())"
   ]
  },
  {
   "cell_type": "code",
   "execution_count": 19,
   "id": "dc2dc7eb",
   "metadata": {},
   "outputs": [
    {
     "data": {
      "image/png": "[encoded data removed]",
      "text/plain": [
       "<Figure size 432x288 with 1 Axes>"
      ]
     },
     "metadata": {
      "needs_background": "light"
     },
     "output_type": "display_data"
    }
   ],
   "source": [
    "fig = plt.figure()\n",
    "ax = fig.add_subplot(111)\n",
    "\n",
    "# original variable distribution\n",
    "df_ar['Age'].plot(kind='kde', ax=ax)\n",
    "\n",
    "# variable imputed with imputation 99\n",
    "df_ar['Age_99'].plot(kind='kde', ax=ax, color='red')\n",
    "\n",
    "# variable imputed with imputation -1\n",
    "df_ar['Age_minus1'].plot(kind='kde', ax=ax, color='green')\n",
    "\n",
    "# add legends\n",
    "lines, labels = ax.get_legend_handles_labels()\n",
    "ax.legend(lines, labels, loc='best')\n",
    "plt.show()"
   ]
  },
  {
   "cell_type": "code",
   "execution_count": 20,
   "id": "015e0ecb",
   "metadata": {},
   "outputs": [
    {
     "data": {
      "image/png": "[encoded data removed]",
      "text/plain": [
       "<Figure size 432x288 with 1 Axes>"
      ]
     },
     "metadata": {
      "needs_background": "light"
     },
     "output_type": "display_data"
    }
   ],
   "source": [
    "fig = plt.figure()\n",
    "ax = fig.add_subplot(111)\n",
    "\n",
    "# original variable distribution\n",
    "df_ar['Fare'].plot(kind='kde', ax=ax)\n",
    "\n",
    "# variable imputed with 99\n",
    "df_ar['Fare_999'].plot(kind='kde', ax=ax, color='red')\n",
    "\n",
    "# variable imputed with -1\n",
    "df_ar['Fare_minus1'].plot(kind='kde', ax=ax, color='green')\n",
    "\n",
    "# add legends\n",
    "lines, labels = ax.get_legend_handles_labels()\n",
    "ax.legend(lines, labels, loc='best')\n",
    "plt.show()"
   ]
  },
  {
   "cell_type": "code",
   "execution_count": 21,
   "id": "5d032b47",
   "metadata": {},
   "outputs": [
    {
     "data": {
      "text/html": [
       "<div>\n",
       "<style scoped>\n",
       "    .dataframe tbody tr th:only-of-type {\n",
       "        vertical-align: middle;\n",
       "    }\n",
       "\n",
       "    .dataframe tbody tr th {\n",
       "        vertical-align: top;\n",
       "    }\n",
       "\n",
       "    .dataframe thead th {\n",
       "        text-align: right;\n",
       "    }\n",
       "</style>\n",
       "<table border=\"1\" class=\"dataframe\">\n",
       "  <thead>\n",
       "    <tr style=\"text-align: right;\">\n",
       "      <th></th>\n",
       "      <th>Age</th>\n",
       "      <th>Fare</th>\n",
       "      <th>Family</th>\n",
       "      <th>Survived</th>\n",
       "      <th>Age_99</th>\n",
       "      <th>Age_minus1</th>\n",
       "      <th>Fare_999</th>\n",
       "      <th>Fare_minus1</th>\n",
       "    </tr>\n",
       "  </thead>\n",
       "  <tbody>\n",
       "    <tr>\n",
       "      <th>Age</th>\n",
       "      <td>211.019125</td>\n",
       "      <td>78.071438</td>\n",
       "      <td>-6.507525</td>\n",
       "      <td>-0.551296</td>\n",
       "      <td>211.019125</td>\n",
       "      <td>211.019125</td>\n",
       "      <td>102.518527</td>\n",
       "      <td>72.736744</td>\n",
       "    </tr>\n",
       "    <tr>\n",
       "      <th>Fare</th>\n",
       "      <td>78.071438</td>\n",
       "      <td>2530.673077</td>\n",
       "      <td>17.460363</td>\n",
       "      <td>6.442361</td>\n",
       "      <td>-73.833768</td>\n",
       "      <td>122.475966</td>\n",
       "      <td>2530.673077</td>\n",
       "      <td>2530.673077</td>\n",
       "    </tr>\n",
       "    <tr>\n",
       "      <th>Family</th>\n",
       "      <td>-6.507525</td>\n",
       "      <td>17.460363</td>\n",
       "      <td>2.603248</td>\n",
       "      <td>0.013063</td>\n",
       "      <td>-7.402498</td>\n",
       "      <td>-4.243568</td>\n",
       "      <td>14.723310</td>\n",
       "      <td>16.641367</td>\n",
       "    </tr>\n",
       "    <tr>\n",
       "      <th>Survived</th>\n",
       "      <td>-0.551296</td>\n",
       "      <td>6.442361</td>\n",
       "      <td>0.013063</td>\n",
       "      <td>0.236772</td>\n",
       "      <td>-1.682796</td>\n",
       "      <td>0.108147</td>\n",
       "      <td>11.251402</td>\n",
       "      <td>5.939859</td>\n",
       "    </tr>\n",
       "    <tr>\n",
       "      <th>Age_99</th>\n",
       "      <td>211.019125</td>\n",
       "      <td>-73.833768</td>\n",
       "      <td>-7.402498</td>\n",
       "      <td>-1.682796</td>\n",
       "      <td>934.439778</td>\n",
       "      <td>-170.001251</td>\n",
       "      <td>-268.298084</td>\n",
       "      <td>-63.277655</td>\n",
       "    </tr>\n",
       "    <tr>\n",
       "      <th>Age_minus1</th>\n",
       "      <td>211.019125</td>\n",
       "      <td>122.475966</td>\n",
       "      <td>-4.243568</td>\n",
       "      <td>0.108147</td>\n",
       "      <td>-170.001251</td>\n",
       "      <td>319.247427</td>\n",
       "      <td>237.363725</td>\n",
       "      <td>112.115172</td>\n",
       "    </tr>\n",
       "    <tr>\n",
       "      <th>Fare_999</th>\n",
       "      <td>102.518527</td>\n",
       "      <td>2530.673077</td>\n",
       "      <td>14.723310</td>\n",
       "      <td>11.251402</td>\n",
       "      <td>-268.298084</td>\n",
       "      <td>237.363725</td>\n",
       "      <td>47268.698672</td>\n",
       "      <td>858.207252</td>\n",
       "    </tr>\n",
       "    <tr>\n",
       "      <th>Fare_minus1</th>\n",
       "      <td>72.736744</td>\n",
       "      <td>2530.673077</td>\n",
       "      <td>16.641367</td>\n",
       "      <td>5.939859</td>\n",
       "      <td>-63.277655</td>\n",
       "      <td>112.115172</td>\n",
       "      <td>858.207252</td>\n",
       "      <td>2455.887436</td>\n",
       "    </tr>\n",
       "  </tbody>\n",
       "</table>\n",
       "</div>"
      ],
      "text/plain": [
       "                    Age         Fare     Family   Survived      Age_99  \\\n",
       "Age          211.019125    78.071438  -6.507525  -0.551296  211.019125   \n",
       "Fare          78.071438  2530.673077  17.460363   6.442361  -73.833768   \n",
       "Family        -6.507525    17.460363   2.603248   0.013063   -7.402498   \n",
       "Survived      -0.551296     6.442361   0.013063   0.236772   -1.682796   \n",
       "Age_99       211.019125   -73.833768  -7.402498  -1.682796  934.439778   \n",
       "Age_minus1   211.019125   122.475966  -4.243568   0.108147 -170.001251   \n",
       "Fare_999     102.518527  2530.673077  14.723310  11.251402 -268.298084   \n",
       "Fare_minus1   72.736744  2530.673077  16.641367   5.939859  -63.277655   \n",
       "\n",
       "             Age_minus1      Fare_999  Fare_minus1  \n",
       "Age          211.019125    102.518527    72.736744  \n",
       "Fare         122.475966   2530.673077  2530.673077  \n",
       "Family        -4.243568     14.723310    16.641367  \n",
       "Survived       0.108147     11.251402     5.939859  \n",
       "Age_99      -170.001251   -268.298084   -63.277655  \n",
       "Age_minus1   319.247427    237.363725   112.115172  \n",
       "Fare_999     237.363725  47268.698672   858.207252  \n",
       "Fare_minus1  112.115172    858.207252  2455.887436  "
      ]
     },
     "execution_count": 21,
     "metadata": {},
     "output_type": "execute_result"
    }
   ],
   "source": [
    "df_ar.cov()"
   ]
  },
  {
   "cell_type": "code",
   "execution_count": 22,
   "id": "65fa3b45",
   "metadata": {},
   "outputs": [
    {
     "data": {
      "text/html": [
       "<div>\n",
       "<style scoped>\n",
       "    .dataframe tbody tr th:only-of-type {\n",
       "        vertical-align: middle;\n",
       "    }\n",
       "\n",
       "    .dataframe tbody tr th {\n",
       "        vertical-align: top;\n",
       "    }\n",
       "\n",
       "    .dataframe thead th {\n",
       "        text-align: right;\n",
       "    }\n",
       "</style>\n",
       "<table border=\"1\" class=\"dataframe\">\n",
       "  <thead>\n",
       "    <tr style=\"text-align: right;\">\n",
       "      <th></th>\n",
       "      <th>Age</th>\n",
       "      <th>Fare</th>\n",
       "      <th>Family</th>\n",
       "      <th>Survived</th>\n",
       "      <th>Age_99</th>\n",
       "      <th>Age_minus1</th>\n",
       "      <th>Fare_999</th>\n",
       "      <th>Fare_minus1</th>\n",
       "    </tr>\n",
       "  </thead>\n",
       "  <tbody>\n",
       "    <tr>\n",
       "      <th>Age</th>\n",
       "      <td>1.000000</td>\n",
       "      <td>0.099481</td>\n",
       "      <td>-0.301914</td>\n",
       "      <td>-0.077221</td>\n",
       "      <td>1.000000</td>\n",
       "      <td>1.000000</td>\n",
       "      <td>0.031311</td>\n",
       "      <td>0.094827</td>\n",
       "    </tr>\n",
       "    <tr>\n",
       "      <th>Fare</th>\n",
       "      <td>0.099481</td>\n",
       "      <td>1.000000</td>\n",
       "      <td>0.212626</td>\n",
       "      <td>0.263920</td>\n",
       "      <td>-0.047700</td>\n",
       "      <td>0.135581</td>\n",
       "      <td>1.000000</td>\n",
       "      <td>1.000000</td>\n",
       "    </tr>\n",
       "    <tr>\n",
       "      <th>Family</th>\n",
       "      <td>-0.301914</td>\n",
       "      <td>0.212626</td>\n",
       "      <td>1.000000</td>\n",
       "      <td>0.016639</td>\n",
       "      <td>-0.150088</td>\n",
       "      <td>-0.147201</td>\n",
       "      <td>0.041972</td>\n",
       "      <td>0.208126</td>\n",
       "    </tr>\n",
       "    <tr>\n",
       "      <th>Survived</th>\n",
       "      <td>-0.077221</td>\n",
       "      <td>0.263920</td>\n",
       "      <td>0.016639</td>\n",
       "      <td>1.000000</td>\n",
       "      <td>-0.113133</td>\n",
       "      <td>0.012439</td>\n",
       "      <td>0.106354</td>\n",
       "      <td>0.246324</td>\n",
       "    </tr>\n",
       "    <tr>\n",
       "      <th>Age_99</th>\n",
       "      <td>1.000000</td>\n",
       "      <td>-0.047700</td>\n",
       "      <td>-0.150088</td>\n",
       "      <td>-0.113133</td>\n",
       "      <td>1.000000</td>\n",
       "      <td>-0.311252</td>\n",
       "      <td>-0.040370</td>\n",
       "      <td>-0.041771</td>\n",
       "    </tr>\n",
       "    <tr>\n",
       "      <th>Age_minus1</th>\n",
       "      <td>1.000000</td>\n",
       "      <td>0.135581</td>\n",
       "      <td>-0.147201</td>\n",
       "      <td>0.012439</td>\n",
       "      <td>-0.311252</td>\n",
       "      <td>1.000000</td>\n",
       "      <td>0.061103</td>\n",
       "      <td>0.126618</td>\n",
       "    </tr>\n",
       "    <tr>\n",
       "      <th>Fare_999</th>\n",
       "      <td>0.031311</td>\n",
       "      <td>1.000000</td>\n",
       "      <td>0.041972</td>\n",
       "      <td>0.106354</td>\n",
       "      <td>-0.040370</td>\n",
       "      <td>0.061103</td>\n",
       "      <td>1.000000</td>\n",
       "      <td>0.079653</td>\n",
       "    </tr>\n",
       "    <tr>\n",
       "      <th>Fare_minus1</th>\n",
       "      <td>0.094827</td>\n",
       "      <td>1.000000</td>\n",
       "      <td>0.208126</td>\n",
       "      <td>0.246324</td>\n",
       "      <td>-0.041771</td>\n",
       "      <td>0.126618</td>\n",
       "      <td>0.079653</td>\n",
       "      <td>1.000000</td>\n",
       "    </tr>\n",
       "  </tbody>\n",
       "</table>\n",
       "</div>"
      ],
      "text/plain": [
       "                  Age      Fare    Family  Survived    Age_99  Age_minus1  \\\n",
       "Age          1.000000  0.099481 -0.301914 -0.077221  1.000000    1.000000   \n",
       "Fare         0.099481  1.000000  0.212626  0.263920 -0.047700    0.135581   \n",
       "Family      -0.301914  0.212626  1.000000  0.016639 -0.150088   -0.147201   \n",
       "Survived    -0.077221  0.263920  0.016639  1.000000 -0.113133    0.012439   \n",
       "Age_99       1.000000 -0.047700 -0.150088 -0.113133  1.000000   -0.311252   \n",
       "Age_minus1   1.000000  0.135581 -0.147201  0.012439 -0.311252    1.000000   \n",
       "Fare_999     0.031311  1.000000  0.041972  0.106354 -0.040370    0.061103   \n",
       "Fare_minus1  0.094827  1.000000  0.208126  0.246324 -0.041771    0.126618   \n",
       "\n",
       "             Fare_999  Fare_minus1  \n",
       "Age          0.031311     0.094827  \n",
       "Fare         1.000000     1.000000  \n",
       "Family       0.041972     0.208126  \n",
       "Survived     0.106354     0.246324  \n",
       "Age_99      -0.040370    -0.041771  \n",
       "Age_minus1   0.061103     0.126618  \n",
       "Fare_999     1.000000     0.079653  \n",
       "Fare_minus1  0.079653     1.000000  "
      ]
     },
     "execution_count": 22,
     "metadata": {},
     "output_type": "execute_result"
    }
   ],
   "source": [
    "df_ar.corr()"
   ]
  },
  {
   "cell_type": "markdown",
   "id": "d9bca280",
   "metadata": {},
   "source": [
    "### using sklearn"
   ]
  },
  {
   "cell_type": "code",
   "execution_count": 23,
   "id": "6e028f35",
   "metadata": {},
   "outputs": [],
   "source": [
    "from sklearn.model_selection import train_test_split\n",
    "\n",
    "from sklearn.impute import SimpleImputer\n",
    "from sklearn.compose import ColumnTransformer"
   ]
  },
  {
   "cell_type": "code",
   "execution_count": 24,
   "id": "deeccfe6",
   "metadata": {},
   "outputs": [],
   "source": [
    "X = df.drop(columns=['Survived'])\n",
    "y = df['Survived']\n",
    "\n",
    "X_train,X_test,y_train,y_test = train_test_split(X,y,test_size=0.2,random_state=2)"
   ]
  },
  {
   "cell_type": "markdown",
   "id": "28a16945",
   "metadata": {},
   "source": [
    "#### mean_median imputation"
   ]
  },
  {
   "cell_type": "code",
   "execution_count": 25,
   "id": "b8193b0e",
   "metadata": {},
   "outputs": [],
   "source": [
    "imputer1 = SimpleImputer(strategy='median')\n",
    "imputer2 = SimpleImputer(strategy='mean')"
   ]
  },
  {
   "cell_type": "code",
   "execution_count": 26,
   "id": "8f7ad539",
   "metadata": {},
   "outputs": [],
   "source": [
    "trf = ColumnTransformer([\n",
    "    ('imputer1', imputer1, ['Age']),\n",
    "    ('imputer2', imputer2, ['Fare'])\n",
    "],remainder='passthrough')"
   ]
  },
  {
   "cell_type": "code",
   "execution_count": 27,
   "id": "56ced2f5",
   "metadata": {},
   "outputs": [
    {
     "data": {
      "text/plain": [
       "ColumnTransformer(remainder='passthrough',\n",
       "                  transformers=[('imputer1', SimpleImputer(strategy='median'),\n",
       "                                 ['Age']),\n",
       "                                ('imputer2', SimpleImputer(), ['Fare'])])"
      ]
     },
     "execution_count": 27,
     "metadata": {},
     "output_type": "execute_result"
    }
   ],
   "source": [
    "trf.fit(X_train)"
   ]
  },
  {
   "cell_type": "code",
   "execution_count": 28,
   "id": "be2e5f4e",
   "metadata": {},
   "outputs": [
    {
     "data": {
      "text/plain": [
       "array([28.75])"
      ]
     },
     "execution_count": 28,
     "metadata": {},
     "output_type": "execute_result"
    }
   ],
   "source": [
    "trf.named_transformers_['imputer1'].statistics_"
   ]
  },
  {
   "cell_type": "code",
   "execution_count": 29,
   "id": "51d24b88",
   "metadata": {},
   "outputs": [
    {
     "data": {
      "text/plain": [
       "array([32.61759689])"
      ]
     },
     "execution_count": 29,
     "metadata": {},
     "output_type": "execute_result"
    }
   ],
   "source": [
    "trf.named_transformers_['imputer2'].statistics_"
   ]
  },
  {
   "cell_type": "code",
   "execution_count": 30,
   "id": "56ea4796",
   "metadata": {},
   "outputs": [],
   "source": [
    "X_train1 = trf.transform(X_train)\n",
    "X_test1 = trf.transform(X_test)"
   ]
  },
  {
   "cell_type": "code",
   "execution_count": 31,
   "id": "f5f2a008",
   "metadata": {},
   "outputs": [
    {
     "data": {
      "text/plain": [
       "array([[ 40.    ,  27.7208,   0.    ],\n",
       "       [  4.    ,  16.7   ,   2.    ],\n",
       "       [ 47.    ,   9.    ,   0.    ],\n",
       "       ...,\n",
       "       [ 71.    ,  49.5042,   0.    ],\n",
       "       [ 28.75  , 221.7792,   0.    ],\n",
       "       [ 28.75  ,  25.925 ,   0.    ]])"
      ]
     },
     "execution_count": 31,
     "metadata": {},
     "output_type": "execute_result"
    }
   ],
   "source": [
    "X_train1"
   ]
  },
  {
   "cell_type": "markdown",
   "id": "75febafc",
   "metadata": {},
   "source": [
    "#### arbitary value imputation"
   ]
  },
  {
   "cell_type": "code",
   "execution_count": 32,
   "id": "cf7d1448",
   "metadata": {},
   "outputs": [],
   "source": [
    "imputer1 = SimpleImputer(strategy='constant',fill_value=99)\n",
    "imputer2 = SimpleImputer(strategy='constant',fill_value=999)"
   ]
  },
  {
   "cell_type": "code",
   "execution_count": 33,
   "id": "e13a5a98",
   "metadata": {},
   "outputs": [],
   "source": [
    "trf = ColumnTransformer([\n",
    "    ('imputer1',imputer1,['Age']),\n",
    "    ('imputer2',imputer2,['Fare'])\n",
    "],remainder='passthrough')"
   ]
  },
  {
   "cell_type": "code",
   "execution_count": 34,
   "id": "a2f3438d",
   "metadata": {},
   "outputs": [
    {
     "data": {
      "text/plain": [
       "ColumnTransformer(remainder='passthrough',\n",
       "                  transformers=[('imputer1',\n",
       "                                 SimpleImputer(fill_value=99,\n",
       "                                               strategy='constant'),\n",
       "                                 ['Age']),\n",
       "                                ('imputer2',\n",
       "                                 SimpleImputer(fill_value=999,\n",
       "                                               strategy='constant'),\n",
       "                                 ['Fare'])])"
      ]
     },
     "execution_count": 34,
     "metadata": {},
     "output_type": "execute_result"
    }
   ],
   "source": [
    "trf.fit(X_train)"
   ]
  },
  {
   "cell_type": "code",
   "execution_count": 35,
   "id": "2d81c1da",
   "metadata": {},
   "outputs": [
    {
     "data": {
      "text/plain": [
       "array([99.])"
      ]
     },
     "execution_count": 35,
     "metadata": {},
     "output_type": "execute_result"
    }
   ],
   "source": [
    "trf.named_transformers_['imputer1'].statistics_"
   ]
  },
  {
   "cell_type": "code",
   "execution_count": 36,
   "id": "2c7883b1",
   "metadata": {},
   "outputs": [
    {
     "data": {
      "text/plain": [
       "array([999.])"
      ]
     },
     "execution_count": 36,
     "metadata": {},
     "output_type": "execute_result"
    }
   ],
   "source": [
    "trf.named_transformers_['imputer2'].statistics_"
   ]
  },
  {
   "cell_type": "code",
   "execution_count": 37,
   "id": "7c0884b8",
   "metadata": {},
   "outputs": [],
   "source": [
    "X_train2 = trf.transform(X_train)\n",
    "X_test2 = trf.transform(X_test)"
   ]
  },
  {
   "cell_type": "code",
   "execution_count": 38,
   "id": "50deffad",
   "metadata": {},
   "outputs": [
    {
     "data": {
      "text/plain": [
       "array([[ 40.    ,  27.7208,   0.    ],\n",
       "       [  4.    ,  16.7   ,   2.    ],\n",
       "       [ 47.    ,   9.    ,   0.    ],\n",
       "       ...,\n",
       "       [ 71.    ,  49.5042,   0.    ],\n",
       "       [ 99.    , 221.7792,   0.    ],\n",
       "       [ 99.    ,  25.925 ,   0.    ]])"
      ]
     },
     "execution_count": 38,
     "metadata": {},
     "output_type": "execute_result"
    }
   ],
   "source": [
    "X_train2"
   ]
  },
  {
   "cell_type": "code",
   "execution_count": null,
   "id": "b050a082",
   "metadata": {},
   "outputs": [],
   "source": []
  }
 ],
 "metadata": {
  "kernelspec": {
   "display_name": "Python 3 (ipykernel)",
   "language": "python",
   "name": "python3"
  },
  "language_info": {
   "codemirror_mode": {
    "name": "ipython",
    "version": 3
   },
   "file_extension": ".py",
   "mimetype": "text/x-python",
   "name": "python",
   "nbconvert_exporter": "python",
   "pygments_lexer": "ipython3",
   "version": "3.9.12"
  }
 },
 "nbformat": 4,
 "nbformat_minor": 5
}
