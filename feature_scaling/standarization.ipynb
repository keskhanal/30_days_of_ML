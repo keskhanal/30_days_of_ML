{
 "cells": [
  {
   "cell_type": "markdown",
   "id": "279c3909",
   "metadata": {},
   "source": [
    "## import libraries"
   ]
  },
  {
   "cell_type": "code",
   "execution_count": 1,
   "id": "e6b2d32d",
   "metadata": {},
   "outputs": [],
   "source": [
    "import pandas as pd\n",
    "import numpy as np\n",
    "\n",
    "import seaborn as sns\n",
    "import matplotlib.pyplot as plt\n",
    "%matplotlib inline"
   ]
  },
  {
   "cell_type": "code",
   "execution_count": 2,
   "id": "e38b19b9",
   "metadata": {},
   "outputs": [
    {
     "data": {
      "text/html": [
       "<div>\n",
       "<style scoped>\n",
       "    .dataframe tbody tr th:only-of-type {\n",
       "        vertical-align: middle;\n",
       "    }\n",
       "\n",
       "    .dataframe tbody tr th {\n",
       "        vertical-align: top;\n",
       "    }\n",
       "\n",
       "    .dataframe thead th {\n",
       "        text-align: right;\n",
       "    }\n",
       "</style>\n",
       "<table border=\"1\" class=\"dataframe\">\n",
       "  <thead>\n",
       "    <tr style=\"text-align: right;\">\n",
       "      <th></th>\n",
       "      <th>User ID</th>\n",
       "      <th>Gender</th>\n",
       "      <th>Age</th>\n",
       "      <th>EstimatedSalary</th>\n",
       "      <th>Purchased</th>\n",
       "    </tr>\n",
       "  </thead>\n",
       "  <tbody>\n",
       "    <tr>\n",
       "      <th>0</th>\n",
       "      <td>15624510</td>\n",
       "      <td>Male</td>\n",
       "      <td>19</td>\n",
       "      <td>19000</td>\n",
       "      <td>0</td>\n",
       "    </tr>\n",
       "    <tr>\n",
       "      <th>1</th>\n",
       "      <td>15810944</td>\n",
       "      <td>Male</td>\n",
       "      <td>35</td>\n",
       "      <td>20000</td>\n",
       "      <td>0</td>\n",
       "    </tr>\n",
       "    <tr>\n",
       "      <th>2</th>\n",
       "      <td>15668575</td>\n",
       "      <td>Female</td>\n",
       "      <td>26</td>\n",
       "      <td>43000</td>\n",
       "      <td>0</td>\n",
       "    </tr>\n",
       "    <tr>\n",
       "      <th>3</th>\n",
       "      <td>15603246</td>\n",
       "      <td>Female</td>\n",
       "      <td>27</td>\n",
       "      <td>57000</td>\n",
       "      <td>0</td>\n",
       "    </tr>\n",
       "    <tr>\n",
       "      <th>4</th>\n",
       "      <td>15804002</td>\n",
       "      <td>Male</td>\n",
       "      <td>19</td>\n",
       "      <td>76000</td>\n",
       "      <td>0</td>\n",
       "    </tr>\n",
       "  </tbody>\n",
       "</table>\n",
       "</div>"
      ],
      "text/plain": [
       "    User ID  Gender  Age  EstimatedSalary  Purchased\n",
       "0  15624510    Male   19            19000          0\n",
       "1  15810944    Male   35            20000          0\n",
       "2  15668575  Female   26            43000          0\n",
       "3  15603246  Female   27            57000          0\n",
       "4  15804002    Male   19            76000          0"
      ]
     },
     "execution_count": 2,
     "metadata": {},
     "output_type": "execute_result"
    }
   ],
   "source": [
    "#load_dataset\n",
    "df = pd.read_csv(\"data/ads.csv\")\n",
    "df.head()"
   ]
  },
  {
   "cell_type": "code",
   "execution_count": 3,
   "id": "03848dd3",
   "metadata": {},
   "outputs": [
    {
     "data": {
      "text/html": [
       "<div>\n",
       "<style scoped>\n",
       "    .dataframe tbody tr th:only-of-type {\n",
       "        vertical-align: middle;\n",
       "    }\n",
       "\n",
       "    .dataframe tbody tr th {\n",
       "        vertical-align: top;\n",
       "    }\n",
       "\n",
       "    .dataframe thead th {\n",
       "        text-align: right;\n",
       "    }\n",
       "</style>\n",
       "<table border=\"1\" class=\"dataframe\">\n",
       "  <thead>\n",
       "    <tr style=\"text-align: right;\">\n",
       "      <th></th>\n",
       "      <th>Age</th>\n",
       "      <th>EstimatedSalary</th>\n",
       "      <th>Purchased</th>\n",
       "    </tr>\n",
       "  </thead>\n",
       "  <tbody>\n",
       "    <tr>\n",
       "      <th>0</th>\n",
       "      <td>19</td>\n",
       "      <td>19000</td>\n",
       "      <td>0</td>\n",
       "    </tr>\n",
       "    <tr>\n",
       "      <th>1</th>\n",
       "      <td>35</td>\n",
       "      <td>20000</td>\n",
       "      <td>0</td>\n",
       "    </tr>\n",
       "    <tr>\n",
       "      <th>2</th>\n",
       "      <td>26</td>\n",
       "      <td>43000</td>\n",
       "      <td>0</td>\n",
       "    </tr>\n",
       "    <tr>\n",
       "      <th>3</th>\n",
       "      <td>27</td>\n",
       "      <td>57000</td>\n",
       "      <td>0</td>\n",
       "    </tr>\n",
       "    <tr>\n",
       "      <th>4</th>\n",
       "      <td>19</td>\n",
       "      <td>76000</td>\n",
       "      <td>0</td>\n",
       "    </tr>\n",
       "  </tbody>\n",
       "</table>\n",
       "</div>"
      ],
      "text/plain": [
       "   Age  EstimatedSalary  Purchased\n",
       "0   19            19000          0\n",
       "1   35            20000          0\n",
       "2   26            43000          0\n",
       "3   27            57000          0\n",
       "4   19            76000          0"
      ]
     },
     "execution_count": 3,
     "metadata": {},
     "output_type": "execute_result"
    }
   ],
   "source": [
    "#takting only age, estimatedSalary, Purchased\n",
    "df = df.loc[ :, [\"Age\", \"EstimatedSalary\", \"Purchased\"]]\n",
    "df.head()"
   ]
  },
  {
   "cell_type": "code",
   "execution_count": 4,
   "id": "0db86471",
   "metadata": {},
   "outputs": [
    {
     "data": {
      "text/plain": [
       "((320, 2), (80, 2))"
      ]
     },
     "execution_count": 4,
     "metadata": {},
     "output_type": "execute_result"
    }
   ],
   "source": [
    "#spliting data into train and test\n",
    "from sklearn.model_selection import train_test_split\n",
    "\n",
    "X = df.drop(\"Purchased\", axis=1)\n",
    "y = df[\"Purchased\"]\n",
    "\n",
    "X_train, X_test, y_train, y_test = train_test_split(X, y, test_size=0.2, random_state=2)\n",
    "\n",
    "X_train.shape, X_test.shape"
   ]
  },
  {
   "cell_type": "markdown",
   "id": "428021b7",
   "metadata": {},
   "source": [
    "## Standard Scalar"
   ]
  },
  {
   "cell_type": "code",
   "execution_count": 5,
   "id": "ae7afc16",
   "metadata": {},
   "outputs": [],
   "source": [
    "#standScalar\n",
    "from sklearn.preprocessing import StandardScaler\n",
    "\n",
    "scaler = StandardScaler()\n",
    "\n",
    "# fit the scaler to the train set\n",
    "scaler.fit(X_train)\n",
    "\n",
    "# transform train and test sets\n",
    "X_train_scaled = scaler.transform(X_train)\n",
    "X_test_scaled = scaler.transform(X_test)"
   ]
  },
  {
   "cell_type": "code",
   "execution_count": 6,
   "id": "751b2e54",
   "metadata": {
    "scrolled": true
   },
   "outputs": [
    {
     "name": "stdout",
     "output_type": "stream",
     "text": [
      "mean age: 37.7875 \n",
      "mean salary: 69359.375\n"
     ]
    }
   ],
   "source": [
    "print(f\"mean age: {scaler.mean_[0]} \\nmean salary: {scaler.mean_[1]}\")"
   ]
  },
  {
   "cell_type": "code",
   "execution_count": 7,
   "id": "be25b15f",
   "metadata": {},
   "outputs": [
    {
     "data": {
      "text/html": [
       "<div>\n",
       "<style scoped>\n",
       "    .dataframe tbody tr th:only-of-type {\n",
       "        vertical-align: middle;\n",
       "    }\n",
       "\n",
       "    .dataframe tbody tr th {\n",
       "        vertical-align: top;\n",
       "    }\n",
       "\n",
       "    .dataframe thead th {\n",
       "        text-align: right;\n",
       "    }\n",
       "</style>\n",
       "<table border=\"1\" class=\"dataframe\">\n",
       "  <thead>\n",
       "    <tr style=\"text-align: right;\">\n",
       "      <th></th>\n",
       "      <th>Age</th>\n",
       "      <th>EstimatedSalary</th>\n",
       "    </tr>\n",
       "  </thead>\n",
       "  <tbody>\n",
       "    <tr>\n",
       "      <th>205</th>\n",
       "      <td>47</td>\n",
       "      <td>47000</td>\n",
       "    </tr>\n",
       "    <tr>\n",
       "      <th>354</th>\n",
       "      <td>36</td>\n",
       "      <td>99000</td>\n",
       "    </tr>\n",
       "    <tr>\n",
       "      <th>3</th>\n",
       "      <td>27</td>\n",
       "      <td>57000</td>\n",
       "    </tr>\n",
       "    <tr>\n",
       "      <th>264</th>\n",
       "      <td>48</td>\n",
       "      <td>90000</td>\n",
       "    </tr>\n",
       "    <tr>\n",
       "      <th>194</th>\n",
       "      <td>28</td>\n",
       "      <td>89000</td>\n",
       "    </tr>\n",
       "    <tr>\n",
       "      <th>...</th>\n",
       "      <td>...</td>\n",
       "      <td>...</td>\n",
       "    </tr>\n",
       "    <tr>\n",
       "      <th>299</th>\n",
       "      <td>46</td>\n",
       "      <td>117000</td>\n",
       "    </tr>\n",
       "    <tr>\n",
       "      <th>22</th>\n",
       "      <td>48</td>\n",
       "      <td>41000</td>\n",
       "    </tr>\n",
       "    <tr>\n",
       "      <th>72</th>\n",
       "      <td>20</td>\n",
       "      <td>23000</td>\n",
       "    </tr>\n",
       "    <tr>\n",
       "      <th>15</th>\n",
       "      <td>29</td>\n",
       "      <td>80000</td>\n",
       "    </tr>\n",
       "    <tr>\n",
       "      <th>168</th>\n",
       "      <td>29</td>\n",
       "      <td>148000</td>\n",
       "    </tr>\n",
       "  </tbody>\n",
       "</table>\n",
       "<p>320 rows × 2 columns</p>\n",
       "</div>"
      ],
      "text/plain": [
       "     Age  EstimatedSalary\n",
       "205   47            47000\n",
       "354   36            99000\n",
       "3     27            57000\n",
       "264   48            90000\n",
       "194   28            89000\n",
       "..   ...              ...\n",
       "299   46           117000\n",
       "22    48            41000\n",
       "72    20            23000\n",
       "15    29            80000\n",
       "168   29           148000\n",
       "\n",
       "[320 rows x 2 columns]"
      ]
     },
     "execution_count": 7,
     "metadata": {},
     "output_type": "execute_result"
    }
   ],
   "source": [
    "X_train"
   ]
  },
  {
   "cell_type": "code",
   "execution_count": 8,
   "id": "a15a5807",
   "metadata": {},
   "outputs": [
    {
     "data": {
      "text/plain": [
       "array([[ 0.88928823, -0.65924556],\n",
       "       [-0.17254846,  0.87392651],\n",
       "       [-1.04132394, -0.36440478],\n",
       "       [ 0.98581884,  0.6085698 ],\n",
       "       [-0.94479333,  0.57908572],\n",
       "       [ 0.40663519,  0.01888824],\n",
       "       [ 0.98581884,  2.11225779],\n",
       "       [ 0.31010458, -0.30543662],\n",
       "       [ 1.7580637 , -0.27595254],\n",
       "       [-0.17254846,  2.20071003],\n",
       "       [ 1.7580637 ,  1.0213469 ],\n",
       "       [-1.33091576, -1.48479975],\n",
       "       [ 2.04765553,  0.54960165],\n",
       "       [ 1.27541066,  1.90586924],\n",
       "       [-1.13785454,  0.31372902],\n",
       "       [-0.36560968, -0.77718187],\n",
       "       [-1.71703819,  0.49063349],\n",
       "       [-0.5586709 , -1.51428383],\n",
       "       [ 0.31010458, -0.71821372],\n",
       "       [ 0.02051275, -0.57079333],\n",
       "       [ 0.02051275,  0.04837232],\n",
       "       [-0.07601785, -0.51182517],\n",
       "       [-0.6552015 , -1.51428383],\n",
       "       [ 0.02051275,  0.31372902],\n",
       "       [ 0.31010458,  0.07785639],\n",
       "       [-0.46214029, -1.13099081],\n",
       "       [-0.75173211, -1.54376791],\n",
       "       [-0.26907907, -0.65924556],\n",
       "       [-1.13785454,  0.49063349],\n",
       "       [-0.07601785,  2.20071003],\n",
       "       [ 0.02051275,  0.04837232],\n",
       "       [-1.13785454, -1.57325199],\n",
       "       [ 1.08234944,  0.54960165],\n",
       "       [-0.26907907, -1.24892713],\n",
       "       [ 1.37194127, -0.92460227],\n",
       "       [-1.42744637, -1.21944305],\n",
       "       [-0.94479333, -0.95408634],\n",
       "       [ 1.95112492, -0.65924556],\n",
       "       [ 0.88928823, -0.57079333],\n",
       "       [-1.13785454,  0.31372902],\n",
       "       [ 0.02051275, -0.24646847],\n",
       "       [ 0.79275762, -1.39634752],\n",
       "       [-0.26907907, -0.36440478],\n",
       "       [ 0.88928823,  1.2867036 ],\n",
       "       [ 0.31010458, -0.18750031],\n",
       "       [-0.26907907, -0.57079333],\n",
       "       [-0.26907907, -1.39634752],\n",
       "       [ 1.46847188, -1.04253858],\n",
       "       [-0.07601785,  0.13682455],\n",
       "       [-0.84826272, -0.65924556],\n",
       "       [-0.07601785,  0.01888824],\n",
       "       [-0.26907907,  0.10734047],\n",
       "       [ 0.21357397, -0.30543662],\n",
       "       [-0.26907907,  0.28424494],\n",
       "       [ 0.11704336,  0.04837232],\n",
       "       [ 1.95112492,  2.20071003],\n",
       "       [-1.04132394, -1.45531567],\n",
       "       [ 0.31010458,  0.31372902],\n",
       "       [ 2.04765553, -1.18995897],\n",
       "       [-1.13785454, -0.51182517],\n",
       "       [ 0.21357397,  0.16630863],\n",
       "       [-0.26907907, -0.92460227],\n",
       "       [-0.6552015 ,  0.04837232],\n",
       "       [ 0.21357397,  0.07785639],\n",
       "       [ 0.40663519, -0.12853215],\n",
       "       [-1.13785454, -1.10150673],\n",
       "       [-0.07601785,  2.25967818],\n",
       "       [ 1.08234944, -0.12853215],\n",
       "       [ 0.88928823,  1.05083098],\n",
       "       [-0.07601785,  0.28424494],\n",
       "       [-0.5586709 , -1.51428383],\n",
       "       [-1.13785454, -1.0130545 ],\n",
       "       [-0.75173211,  1.37515584],\n",
       "       [ 1.08234944,  0.57908572],\n",
       "       [ 1.56500249, -1.2784112 ],\n",
       "       [ 0.69622701, -1.39634752],\n",
       "       [-0.6552015 , -1.04253858],\n",
       "       [ 1.17888005,  0.54960165],\n",
       "       [-0.26907907, -1.45531567],\n",
       "       [-1.62050759,  0.54960165],\n",
       "       [-1.04132394, -1.13099081],\n",
       "       [-0.07601785,  0.04837232],\n",
       "       [ 0.31010458,  0.07785639],\n",
       "       [ 0.88928823, -1.36686344],\n",
       "       [-1.04132394, -0.3349207 ],\n",
       "       [-1.8135688 ,  0.19579271],\n",
       "       [-1.8135688 , -1.4258316 ],\n",
       "       [ 0.69622701,  1.81741701],\n",
       "       [-0.07601785,  0.31372902],\n",
       "       [-1.62050759,  0.07785639],\n",
       "       [-0.6552015 ,  1.43412399],\n",
       "       [-0.26907907, -0.24646847],\n",
       "       [-0.36560968,  1.34567176],\n",
       "       [ 0.5031658 ,  1.25721952],\n",
       "       [-0.6552015 ,  0.19579271],\n",
       "       [-1.52397698, -0.42337294],\n",
       "       [-1.04132394,  0.43166533],\n",
       "       [ 0.79275762,  0.28424494],\n",
       "       [ 1.95112492, -0.92460227],\n",
       "       [ 0.79275762, -0.30543662],\n",
       "       [ 0.21357397,  0.25476086],\n",
       "       [-1.71703819, -0.60027741],\n",
       "       [-0.26907907,  0.16630863],\n",
       "       [-1.33091576, -1.24892713],\n",
       "       [-0.26907907, -0.42337294],\n",
       "       [ 0.11704336,  0.10734047],\n",
       "       [-0.94479333,  0.46114941],\n",
       "       [ 2.04765553,  0.40218125],\n",
       "       [-1.91009941,  0.37269718],\n",
       "       [ 2.04765553, -0.80666595],\n",
       "       [ 2.14418614,  1.13928321],\n",
       "       [ 0.79275762, -1.21944305],\n",
       "       [ 0.40663519, -0.45285701],\n",
       "       [ 0.02051275, -0.24646847],\n",
       "       [ 1.46847188,  0.37269718],\n",
       "       [-0.17254846, -0.57079333],\n",
       "       [ 0.21357397, -0.24646847],\n",
       "       [-0.46214029,  2.34813042],\n",
       "       [ 0.11704336,  0.22527679],\n",
       "       [ 0.21357397, -0.65924556],\n",
       "       [ 0.98581884, -1.07202266],\n",
       "       [-0.17254846,  0.16630863],\n",
       "       [-0.07601785,  0.31372902],\n",
       "       [ 0.40663519, -0.48234109],\n",
       "       [-0.36560968, -1.30789528],\n",
       "       [ 0.88928823, -0.77718187],\n",
       "       [-0.94479333,  0.43166533],\n",
       "       [-0.07601785, -0.42337294],\n",
       "       [-0.94479333, -0.42337294],\n",
       "       [-1.8135688 ,  0.46114941],\n",
       "       [-0.84826272, -1.21944305],\n",
       "       [-0.94479333, -0.30543662],\n",
       "       [ 0.98581884,  0.78547427],\n",
       "       [-1.62050759, -0.04007992],\n",
       "       [-1.04132394, -0.3349207 ],\n",
       "       [ 0.02051275, -0.54130925],\n",
       "       [-0.6552015 , -0.3349207 ],\n",
       "       [-1.13785454, -1.54376791],\n",
       "       [ 1.95112492, -1.36686344],\n",
       "       [-0.6552015 , -1.60273606],\n",
       "       [ 0.21357397, -0.36440478],\n",
       "       [ 0.88928823,  2.20071003],\n",
       "       [ 1.17888005, -0.98357042],\n",
       "       [-0.17254846, -0.51182517],\n",
       "       [ 1.66153309,  1.78793293],\n",
       "       [ 1.08234944, -1.21944305],\n",
       "       [ 0.02051275,  1.2867036 ],\n",
       "       [-0.46214029, -0.27595254],\n",
       "       [ 1.66153309, -0.89511819],\n",
       "       [ 0.31010458,  0.52011757],\n",
       "       [-1.04132394, -1.54376791],\n",
       "       [ 1.56500249,  1.13928321],\n",
       "       [-1.52397698,  0.3432131 ],\n",
       "       [ 0.02051275, -0.12853215],\n",
       "       [ 0.11704336, -0.80666595],\n",
       "       [ 0.21357397,  1.10979913],\n",
       "       [ 0.40663519, -0.15801623],\n",
       "       [-0.46214029, -0.01059584],\n",
       "       [ 1.08234944,  2.11225779],\n",
       "       [-0.26907907, -0.12853215],\n",
       "       [-0.75173211, -0.60027741],\n",
       "       [ 1.17888005, -1.45531567],\n",
       "       [-1.42744637, -1.45531567],\n",
       "       [ 1.85459431, -0.27595254],\n",
       "       [ 1.85459431,  0.13682455],\n",
       "       [ 0.40663519,  0.16630863],\n",
       "       [ 1.27541066, -1.36686344],\n",
       "       [-0.46214029, -1.21944305],\n",
       "       [-0.75173211,  1.93535332],\n",
       "       [-0.26907907,  1.13928321],\n",
       "       [ 0.02051275, -0.57079333],\n",
       "       [ 0.21357397, -0.12853215],\n",
       "       [-0.5586709 ,  1.93535332],\n",
       "       [-0.94479333,  0.28424494],\n",
       "       [-1.91009941,  0.49063349],\n",
       "       [-1.33091576,  0.57908572],\n",
       "       [ 0.21357397,  0.16630863],\n",
       "       [ 1.37194127, -1.4258316 ],\n",
       "       [-0.07601785,  0.69702204],\n",
       "       [ 0.11704336,  1.90586924],\n",
       "       [-1.71703819, -0.98357042],\n",
       "       [ 0.21357397, -0.36440478],\n",
       "       [-1.8135688 , -1.30789528],\n",
       "       [ 0.79275762,  0.54960165],\n",
       "       [-0.17254846,  1.43412399],\n",
       "       [-1.04132394,  0.57908572],\n",
       "       [-1.23438515, -1.07202266],\n",
       "       [ 1.37194127,  2.02380556],\n",
       "       [ 0.79275762, -1.10150673],\n",
       "       [ 0.79275762,  0.13682455],\n",
       "       [-1.8135688 , -1.2784112 ],\n",
       "       [ 0.02051275,  1.25721952],\n",
       "       [ 0.88928823, -0.60027741],\n",
       "       [ 2.14418614,  0.40218125],\n",
       "       [ 2.14418614, -0.80666595],\n",
       "       [ 0.98581884, -1.07202266],\n",
       "       [ 0.11704336,  1.55206031],\n",
       "       [-0.94479333,  0.52011757],\n",
       "       [-1.23438515,  0.28424494],\n",
       "       [ 0.40663519,  0.6085698 ],\n",
       "       [ 0.11704336,  0.16630863],\n",
       "       [ 0.21357397,  0.04837232],\n",
       "       [ 2.04765553,  2.17122595],\n",
       "       [-0.07601785, -0.36440478],\n",
       "       [-0.26907907,  0.81495835],\n",
       "       [-1.42744637, -0.18750031],\n",
       "       [ 1.08234944,  0.13682455],\n",
       "       [ 0.31010458,  0.07785639],\n",
       "       [ 0.11704336,  0.04837232],\n",
       "       [ 0.98581884, -1.0130545 ],\n",
       "       [-0.5586709 ,  1.49309215],\n",
       "       [-1.13785454, -1.60273606],\n",
       "       [ 1.27541066,  2.25967818],\n",
       "       [-1.42744637, -0.09904808],\n",
       "       [-1.8135688 , -1.48479975],\n",
       "       [ 0.88928823, -1.16047489],\n",
       "       [ 2.14418614, -0.68872964],\n",
       "       [ 0.5996964 , -0.89511819],\n",
       "       [-1.23438515, -1.39634752],\n",
       "       [-0.46214029, -0.83615003],\n",
       "       [-0.84826272, -0.24646847],\n",
       "       [ 1.46847188,  2.17122595],\n",
       "       [ 0.40663519,  1.0213469 ],\n",
       "       [ 0.02051275, -0.42337294],\n",
       "       [-1.13785454, -1.16047489],\n",
       "       [-0.75173211,  0.57908572],\n",
       "       [ 0.11704336,  1.08031505],\n",
       "       [-0.5586709 ,  1.40463991],\n",
       "       [ 0.11704336,  1.90586924],\n",
       "       [ 0.21357397,  2.14174187],\n",
       "       [ 1.46847188,  1.0213469 ],\n",
       "       [-1.71703819,  0.13682455],\n",
       "       [-0.26907907, -0.48234109],\n",
       "       [ 0.11704336,  0.78547427],\n",
       "       [ 0.88928823, -1.30789528],\n",
       "       [-0.26907907, -0.27595254],\n",
       "       [ 2.14418614, -1.04253858],\n",
       "       [ 0.40663519,  0.31372902],\n",
       "       [-0.17254846,  1.64051254],\n",
       "       [ 0.79275762, -0.83615003],\n",
       "       [-0.94479333,  1.58154438],\n",
       "       [ 0.11704336, -0.24646847],\n",
       "       [-1.23438515,  0.52011757],\n",
       "       [ 0.11704336, -0.80666595],\n",
       "       [ 1.08234944, -0.98357042],\n",
       "       [ 0.98581884,  1.81741701],\n",
       "       [-1.42744637, -0.62976148],\n",
       "       [ 0.98581884, -1.18995897],\n",
       "       [-1.33091576, -0.42337294],\n",
       "       [ 0.31010458,  0.07785639],\n",
       "       [-0.26907907, -0.57079333],\n",
       "       [-0.75173211,  1.10979913],\n",
       "       [ 1.56500249,  1.0213469 ],\n",
       "       [-1.04132394,  0.6085698 ],\n",
       "       [ 0.40663519,  0.10734047],\n",
       "       [-0.94479333, -0.30543662],\n",
       "       [ 1.17888005, -0.7476978 ],\n",
       "       [-1.91009941, -0.51182517],\n",
       "       [ 1.08234944, -1.21944305],\n",
       "       [ 0.31010458,  0.28424494],\n",
       "       [-0.75173211, -1.60273606],\n",
       "       [-0.26907907, -1.30789528],\n",
       "       [-0.26907907,  0.54960165],\n",
       "       [ 0.98581884,  1.90586924],\n",
       "       [-0.6552015 , -0.09904808],\n",
       "       [-0.46214029,  1.2867036 ],\n",
       "       [ 0.31010458, -0.51182517],\n",
       "       [ 1.85459431,  1.55206031],\n",
       "       [ 1.08234944,  0.49063349],\n",
       "       [ 2.04765553,  0.19579271],\n",
       "       [-1.71703819,  0.37269718],\n",
       "       [-0.17254846, -0.18750031],\n",
       "       [-0.6552015 ,  0.57908572],\n",
       "       [ 1.37194127,  1.31618768],\n",
       "       [ 1.08234944, -0.89511819],\n",
       "       [ 1.85459431, -1.07202266],\n",
       "       [-0.75173211,  0.52011757],\n",
       "       [-1.33091576, -1.10150673],\n",
       "       [ 0.79275762,  0.37269718],\n",
       "       [-0.84826272,  0.40218125],\n",
       "       [-0.75173211,  0.31372902],\n",
       "       [-1.04132394,  1.99432148],\n",
       "       [-0.07601785,  0.07785639],\n",
       "       [ 1.37194127,  2.3776145 ],\n",
       "       [-0.07601785,  0.16630863],\n",
       "       [-0.07601785,  1.99432148],\n",
       "       [-0.75173211,  0.28424494],\n",
       "       [-1.13785454,  0.3432131 ],\n",
       "       [ 0.31010458, -0.27595254],\n",
       "       [ 0.98581884, -1.16047489],\n",
       "       [ 1.37194127,  0.6085698 ],\n",
       "       [-1.52397698, -1.51428383],\n",
       "       [-0.94479333, -0.7476978 ],\n",
       "       [-1.13785454,  0.07785639],\n",
       "       [ 0.40663519, -0.45285701],\n",
       "       [-1.91009941, -0.7476978 ],\n",
       "       [ 0.40663519,  0.28424494],\n",
       "       [-0.26907907,  0.22527679],\n",
       "       [-0.5586709 ,  0.49063349],\n",
       "       [-0.36560968, -0.77718187],\n",
       "       [-0.26907907,  0.04837232],\n",
       "       [-0.07601785,  0.22527679],\n",
       "       [-0.26907907,  0.16630863],\n",
       "       [ 0.31010458, -0.54130925],\n",
       "       [ 0.79275762,  0.78547427],\n",
       "       [ 0.98581884,  2.02380556],\n",
       "       [-0.17254846, -0.27595254],\n",
       "       [-1.04132394, -0.45285701],\n",
       "       [-0.26907907, -0.3349207 ],\n",
       "       [ 0.11704336, -0.30543662],\n",
       "       [-0.26907907, -0.7476978 ],\n",
       "       [-0.07601785, -1.07202266],\n",
       "       [-0.26907907,  0.07785639],\n",
       "       [ 0.5031658 ,  1.75844885],\n",
       "       [-0.36560968,  1.25721952],\n",
       "       [ 0.79275762,  1.40463991],\n",
       "       [ 0.98581884, -0.83615003],\n",
       "       [-1.71703819, -1.36686344],\n",
       "       [-0.84826272,  0.31372902],\n",
       "       [-0.84826272,  2.31864634]])"
      ]
     },
     "execution_count": 8,
     "metadata": {},
     "output_type": "execute_result"
    }
   ],
   "source": [
    "X_train_scaled"
   ]
  },
  {
   "cell_type": "code",
   "execution_count": 9,
   "id": "15379a79",
   "metadata": {},
   "outputs": [],
   "source": [
    "X_train_scaled = pd.DataFrame(X_train_scaled, columns=X_train.columns)\n",
    "X_test_scaled = pd.DataFrame(X_test_scaled, columns=X_test.columns)"
   ]
  },
  {
   "cell_type": "code",
   "execution_count": 10,
   "id": "cf84d1b3",
   "metadata": {},
   "outputs": [
    {
     "data": {
      "text/html": [
       "<div>\n",
       "<style scoped>\n",
       "    .dataframe tbody tr th:only-of-type {\n",
       "        vertical-align: middle;\n",
       "    }\n",
       "\n",
       "    .dataframe tbody tr th {\n",
       "        vertical-align: top;\n",
       "    }\n",
       "\n",
       "    .dataframe thead th {\n",
       "        text-align: right;\n",
       "    }\n",
       "</style>\n",
       "<table border=\"1\" class=\"dataframe\">\n",
       "  <thead>\n",
       "    <tr style=\"text-align: right;\">\n",
       "      <th></th>\n",
       "      <th>Age</th>\n",
       "      <th>EstimatedSalary</th>\n",
       "    </tr>\n",
       "  </thead>\n",
       "  <tbody>\n",
       "    <tr>\n",
       "      <th>0</th>\n",
       "      <td>0.889288</td>\n",
       "      <td>-0.659246</td>\n",
       "    </tr>\n",
       "    <tr>\n",
       "      <th>1</th>\n",
       "      <td>-0.172548</td>\n",
       "      <td>0.873927</td>\n",
       "    </tr>\n",
       "    <tr>\n",
       "      <th>2</th>\n",
       "      <td>-1.041324</td>\n",
       "      <td>-0.364405</td>\n",
       "    </tr>\n",
       "    <tr>\n",
       "      <th>3</th>\n",
       "      <td>0.985819</td>\n",
       "      <td>0.608570</td>\n",
       "    </tr>\n",
       "    <tr>\n",
       "      <th>4</th>\n",
       "      <td>-0.944793</td>\n",
       "      <td>0.579086</td>\n",
       "    </tr>\n",
       "    <tr>\n",
       "      <th>...</th>\n",
       "      <td>...</td>\n",
       "      <td>...</td>\n",
       "    </tr>\n",
       "    <tr>\n",
       "      <th>315</th>\n",
       "      <td>0.792758</td>\n",
       "      <td>1.404640</td>\n",
       "    </tr>\n",
       "    <tr>\n",
       "      <th>316</th>\n",
       "      <td>0.985819</td>\n",
       "      <td>-0.836150</td>\n",
       "    </tr>\n",
       "    <tr>\n",
       "      <th>317</th>\n",
       "      <td>-1.717038</td>\n",
       "      <td>-1.366863</td>\n",
       "    </tr>\n",
       "    <tr>\n",
       "      <th>318</th>\n",
       "      <td>-0.848263</td>\n",
       "      <td>0.313729</td>\n",
       "    </tr>\n",
       "    <tr>\n",
       "      <th>319</th>\n",
       "      <td>-0.848263</td>\n",
       "      <td>2.318646</td>\n",
       "    </tr>\n",
       "  </tbody>\n",
       "</table>\n",
       "<p>320 rows × 2 columns</p>\n",
       "</div>"
      ],
      "text/plain": [
       "          Age  EstimatedSalary\n",
       "0    0.889288        -0.659246\n",
       "1   -0.172548         0.873927\n",
       "2   -1.041324        -0.364405\n",
       "3    0.985819         0.608570\n",
       "4   -0.944793         0.579086\n",
       "..        ...              ...\n",
       "315  0.792758         1.404640\n",
       "316  0.985819        -0.836150\n",
       "317 -1.717038        -1.366863\n",
       "318 -0.848263         0.313729\n",
       "319 -0.848263         2.318646\n",
       "\n",
       "[320 rows x 2 columns]"
      ]
     },
     "execution_count": 10,
     "metadata": {},
     "output_type": "execute_result"
    }
   ],
   "source": [
    "X_train_scaled"
   ]
  },
  {
   "cell_type": "code",
   "execution_count": 11,
   "id": "3590bd62",
   "metadata": {},
   "outputs": [
    {
     "data": {
      "text/html": [
       "<div>\n",
       "<style scoped>\n",
       "    .dataframe tbody tr th:only-of-type {\n",
       "        vertical-align: middle;\n",
       "    }\n",
       "\n",
       "    .dataframe tbody tr th {\n",
       "        vertical-align: top;\n",
       "    }\n",
       "\n",
       "    .dataframe thead th {\n",
       "        text-align: right;\n",
       "    }\n",
       "</style>\n",
       "<table border=\"1\" class=\"dataframe\">\n",
       "  <thead>\n",
       "    <tr style=\"text-align: right;\">\n",
       "      <th></th>\n",
       "      <th>Age</th>\n",
       "      <th>EstimatedSalary</th>\n",
       "    </tr>\n",
       "  </thead>\n",
       "  <tbody>\n",
       "    <tr>\n",
       "      <th>count</th>\n",
       "      <td>320.0</td>\n",
       "      <td>320.0</td>\n",
       "    </tr>\n",
       "    <tr>\n",
       "      <th>mean</th>\n",
       "      <td>37.8</td>\n",
       "      <td>69359.4</td>\n",
       "    </tr>\n",
       "    <tr>\n",
       "      <th>std</th>\n",
       "      <td>10.4</td>\n",
       "      <td>33969.7</td>\n",
       "    </tr>\n",
       "    <tr>\n",
       "      <th>min</th>\n",
       "      <td>18.0</td>\n",
       "      <td>15000.0</td>\n",
       "    </tr>\n",
       "    <tr>\n",
       "      <th>25%</th>\n",
       "      <td>30.0</td>\n",
       "      <td>43000.0</td>\n",
       "    </tr>\n",
       "    <tr>\n",
       "      <th>50%</th>\n",
       "      <td>37.0</td>\n",
       "      <td>69500.0</td>\n",
       "    </tr>\n",
       "    <tr>\n",
       "      <th>75%</th>\n",
       "      <td>46.0</td>\n",
       "      <td>87000.0</td>\n",
       "    </tr>\n",
       "    <tr>\n",
       "      <th>max</th>\n",
       "      <td>60.0</td>\n",
       "      <td>150000.0</td>\n",
       "    </tr>\n",
       "  </tbody>\n",
       "</table>\n",
       "</div>"
      ],
      "text/plain": [
       "         Age  EstimatedSalary\n",
       "count  320.0            320.0\n",
       "mean    37.8          69359.4\n",
       "std     10.4          33969.7\n",
       "min     18.0          15000.0\n",
       "25%     30.0          43000.0\n",
       "50%     37.0          69500.0\n",
       "75%     46.0          87000.0\n",
       "max     60.0         150000.0"
      ]
     },
     "execution_count": 11,
     "metadata": {},
     "output_type": "execute_result"
    }
   ],
   "source": [
    "np.round(X_train.describe(), 1)"
   ]
  },
  {
   "cell_type": "code",
   "execution_count": 12,
   "id": "c84f2db5",
   "metadata": {},
   "outputs": [
    {
     "data": {
      "text/html": [
       "<div>\n",
       "<style scoped>\n",
       "    .dataframe tbody tr th:only-of-type {\n",
       "        vertical-align: middle;\n",
       "    }\n",
       "\n",
       "    .dataframe tbody tr th {\n",
       "        vertical-align: top;\n",
       "    }\n",
       "\n",
       "    .dataframe thead th {\n",
       "        text-align: right;\n",
       "    }\n",
       "</style>\n",
       "<table border=\"1\" class=\"dataframe\">\n",
       "  <thead>\n",
       "    <tr style=\"text-align: right;\">\n",
       "      <th></th>\n",
       "      <th>Age</th>\n",
       "      <th>EstimatedSalary</th>\n",
       "    </tr>\n",
       "  </thead>\n",
       "  <tbody>\n",
       "    <tr>\n",
       "      <th>count</th>\n",
       "      <td>320.0</td>\n",
       "      <td>320.0</td>\n",
       "    </tr>\n",
       "    <tr>\n",
       "      <th>mean</th>\n",
       "      <td>-0.0</td>\n",
       "      <td>-0.0</td>\n",
       "    </tr>\n",
       "    <tr>\n",
       "      <th>std</th>\n",
       "      <td>1.0</td>\n",
       "      <td>1.0</td>\n",
       "    </tr>\n",
       "    <tr>\n",
       "      <th>min</th>\n",
       "      <td>-1.9</td>\n",
       "      <td>-1.6</td>\n",
       "    </tr>\n",
       "    <tr>\n",
       "      <th>25%</th>\n",
       "      <td>-0.8</td>\n",
       "      <td>-0.8</td>\n",
       "    </tr>\n",
       "    <tr>\n",
       "      <th>50%</th>\n",
       "      <td>-0.1</td>\n",
       "      <td>0.0</td>\n",
       "    </tr>\n",
       "    <tr>\n",
       "      <th>75%</th>\n",
       "      <td>0.8</td>\n",
       "      <td>0.5</td>\n",
       "    </tr>\n",
       "    <tr>\n",
       "      <th>max</th>\n",
       "      <td>2.1</td>\n",
       "      <td>2.4</td>\n",
       "    </tr>\n",
       "  </tbody>\n",
       "</table>\n",
       "</div>"
      ],
      "text/plain": [
       "         Age  EstimatedSalary\n",
       "count  320.0            320.0\n",
       "mean    -0.0             -0.0\n",
       "std      1.0              1.0\n",
       "min     -1.9             -1.6\n",
       "25%     -0.8             -0.8\n",
       "50%     -0.1              0.0\n",
       "75%      0.8              0.5\n",
       "max      2.1              2.4"
      ]
     },
     "execution_count": 12,
     "metadata": {},
     "output_type": "execute_result"
    }
   ],
   "source": [
    "np.round(X_train_scaled.describe(), 1)"
   ]
  },
  {
   "cell_type": "markdown",
   "id": "700e6bea",
   "metadata": {},
   "source": [
    "here mean is zero and standard deviation is one in scaled data"
   ]
  },
  {
   "cell_type": "markdown",
   "id": "18834945",
   "metadata": {},
   "source": [
    "## Effects of scaling"
   ]
  },
  {
   "cell_type": "code",
   "execution_count": 13,
   "id": "4710067d",
   "metadata": {},
   "outputs": [
    {
     "data": {
      "image/png": "[encoded data removed]",
      "text/plain": [
       "<Figure size 864x360 with 2 Axes>"
      ]
     },
     "metadata": {
      "needs_background": "light"
     },
     "output_type": "display_data"
    }
   ],
   "source": [
    "fig, (ax1, ax2) = plt.subplots(ncols=2, figsize=(12, 5))\n",
    "\n",
    "ax1.scatter(X_train['Age'], X_train['EstimatedSalary'])\n",
    "ax1.set_title(\"Before Scaling\")\n",
    "ax2.scatter(X_train_scaled['Age'], X_train_scaled['EstimatedSalary'],color='red')\n",
    "ax2.set_title(\"After Scaling\")\n",
    "plt.show()"
   ]
  },
  {
   "cell_type": "code",
   "execution_count": 14,
   "id": "28b04432",
   "metadata": {},
   "outputs": [
    {
     "data": {
      "image/png": "[encoded data removed]",
      "text/plain": [
       "<Figure size 864x360 with 2 Axes>"
      ]
     },
     "metadata": {
      "needs_background": "light"
     },
     "output_type": "display_data"
    }
   ],
   "source": [
    "fig, (ax1, ax2) = plt.subplots(ncols=2, figsize=(12, 5))\n",
    "\n",
    "# before scaling\n",
    "ax1.set_title('Before Scaling')\n",
    "sns.kdeplot(X_train['Age'], ax=ax1)\n",
    "sns.kdeplot(X_train['EstimatedSalary'], ax=ax1)\n",
    "\n",
    "# after scaling\n",
    "ax2.set_title('After Standard Scaling')\n",
    "sns.kdeplot(X_train_scaled['Age'], ax=ax2)\n",
    "sns.kdeplot(X_train_scaled['EstimatedSalary'], ax=ax2)\n",
    "plt.show()"
   ]
  },
  {
   "cell_type": "markdown",
   "id": "b0d4df66",
   "metadata": {},
   "source": [
    "## comparision of distributions"
   ]
  },
  {
   "cell_type": "code",
   "execution_count": 15,
   "id": "bac0a600",
   "metadata": {},
   "outputs": [
    {
     "data": {
      "image/png": "[encoded data removed]",
      "text/plain": [
       "<Figure size 864x360 with 2 Axes>"
      ]
     },
     "metadata": {
      "needs_background": "light"
     },
     "output_type": "display_data"
    }
   ],
   "source": [
    "fig, (ax1, ax2) = plt.subplots(ncols=2, figsize=(12, 5))\n",
    "\n",
    "# before scaling\n",
    "ax1.set_title('Age Distribution Before Scaling')\n",
    "sns.kdeplot(X_train['Age'], ax=ax1)\n",
    "\n",
    "# after scaling\n",
    "ax2.set_title('Age Distribution After Standard Scaling')\n",
    "sns.kdeplot(X_train_scaled['Age'], ax=ax2)\n",
    "plt.show()"
   ]
  },
  {
   "cell_type": "code",
   "execution_count": 16,
   "id": "adf19fe5",
   "metadata": {},
   "outputs": [
    {
     "data": {
      "image/png": "[encoded data removed]",
      "text/plain": [
       "<Figure size 864x360 with 2 Axes>"
      ]
     },
     "metadata": {
      "needs_background": "light"
     },
     "output_type": "display_data"
    }
   ],
   "source": [
    "fig, (ax1, ax2) = plt.subplots(ncols=2, figsize=(12, 5))\n",
    "\n",
    "# before scaling\n",
    "ax1.set_title('Salary Distribution Before Scaling')\n",
    "sns.kdeplot(X_train['EstimatedSalary'], ax=ax1)\n",
    "\n",
    "# after scaling\n",
    "ax2.set_title('Salary Distribution Standard Scaling')\n",
    "sns.kdeplot(X_train_scaled['EstimatedSalary'], ax=ax2)\n",
    "plt.show()"
   ]
  },
  {
   "cell_type": "markdown",
   "id": "2c8a390c",
   "metadata": {},
   "source": [
    "## Why scaling???"
   ]
  },
  {
   "cell_type": "code",
   "execution_count": 17,
   "id": "7b89f756",
   "metadata": {},
   "outputs": [
    {
     "data": {
      "text/plain": [
       "LogisticRegression()"
      ]
     },
     "execution_count": 17,
     "metadata": {},
     "output_type": "execute_result"
    }
   ],
   "source": [
    "#for logistic regression\n",
    "from sklearn.linear_model import LogisticRegression\n",
    "\n",
    "lr = LogisticRegression()\n",
    "lr_scaled = LogisticRegression()\n",
    "\n",
    "lr.fit(X_train,y_train)\n",
    "lr_scaled.fit(X_train_scaled,y_train)"
   ]
  },
  {
   "cell_type": "code",
   "execution_count": 18,
   "id": "bbb318de",
   "metadata": {},
   "outputs": [],
   "source": [
    "y_pred = lr.predict(X_test)\n",
    "y_pred_scaled = lr_scaled.predict(X_test_scaled)"
   ]
  },
  {
   "cell_type": "code",
   "execution_count": 19,
   "id": "04d63772",
   "metadata": {
    "scrolled": true
   },
   "outputs": [
    {
     "name": "stdout",
     "output_type": "stream",
     "text": [
      "Without scaling: 0.6\n",
      "With Scaled data: 0.8125\n"
     ]
    }
   ],
   "source": [
    "from sklearn.metrics import accuracy_score\n",
    "\n",
    "print(f\"Without scaling: {accuracy_score(y_test, y_pred)}\")\n",
    "print(f\"With Scaled data: {accuracy_score(y_test, y_pred_scaled)}\")"
   ]
  },
  {
   "cell_type": "code",
   "execution_count": 20,
   "id": "7e4f0a23",
   "metadata": {},
   "outputs": [
    {
     "data": {
      "text/plain": [
       "DecisionTreeClassifier()"
      ]
     },
     "execution_count": 20,
     "metadata": {},
     "output_type": "execute_result"
    }
   ],
   "source": [
    "#for decision tree classifier\n",
    "from sklearn.tree import DecisionTreeClassifier\n",
    "\n",
    "dt = DecisionTreeClassifier()\n",
    "dt_scaled = DecisionTreeClassifier()\n",
    "\n",
    "dt.fit(X_train,y_train)\n",
    "dt_scaled.fit(X_train_scaled,y_train)"
   ]
  },
  {
   "cell_type": "code",
   "execution_count": 21,
   "id": "7150145f",
   "metadata": {},
   "outputs": [
    {
     "name": "stdout",
     "output_type": "stream",
     "text": [
      "Without scaling: 0.8625\n",
      "With Scaled data: 0.85\n"
     ]
    }
   ],
   "source": [
    "y_pred = dt.predict(X_test)\n",
    "y_pred_scaled = dt_scaled.predict(X_test_scaled)\n",
    "\n",
    "print(f\"Without scaling: {accuracy_score(y_test, y_pred)}\")\n",
    "print(f\"With Scaled data: {accuracy_score(y_test, y_pred_scaled)}\")"
   ]
  },
  {
   "cell_type": "markdown",
   "id": "a72b772c",
   "metadata": {},
   "source": [
    "this shows decision tree doesn't need scaling of data"
   ]
  },
  {
   "cell_type": "code",
   "execution_count": 22,
   "id": "5cd5738c",
   "metadata": {},
   "outputs": [
    {
     "data": {
      "text/html": [
       "<div>\n",
       "<style scoped>\n",
       "    .dataframe tbody tr th:only-of-type {\n",
       "        vertical-align: middle;\n",
       "    }\n",
       "\n",
       "    .dataframe tbody tr th {\n",
       "        vertical-align: top;\n",
       "    }\n",
       "\n",
       "    .dataframe thead th {\n",
       "        text-align: right;\n",
       "    }\n",
       "</style>\n",
       "<table border=\"1\" class=\"dataframe\">\n",
       "  <thead>\n",
       "    <tr style=\"text-align: right;\">\n",
       "      <th></th>\n",
       "      <th>Age</th>\n",
       "      <th>EstimatedSalary</th>\n",
       "      <th>Purchased</th>\n",
       "    </tr>\n",
       "  </thead>\n",
       "  <tbody>\n",
       "    <tr>\n",
       "      <th>count</th>\n",
       "      <td>400.000000</td>\n",
       "      <td>400.000000</td>\n",
       "      <td>400.000000</td>\n",
       "    </tr>\n",
       "    <tr>\n",
       "      <th>mean</th>\n",
       "      <td>37.655000</td>\n",
       "      <td>69742.500000</td>\n",
       "      <td>0.357500</td>\n",
       "    </tr>\n",
       "    <tr>\n",
       "      <th>std</th>\n",
       "      <td>10.482877</td>\n",
       "      <td>34096.960282</td>\n",
       "      <td>0.479864</td>\n",
       "    </tr>\n",
       "    <tr>\n",
       "      <th>min</th>\n",
       "      <td>18.000000</td>\n",
       "      <td>15000.000000</td>\n",
       "      <td>0.000000</td>\n",
       "    </tr>\n",
       "    <tr>\n",
       "      <th>25%</th>\n",
       "      <td>29.750000</td>\n",
       "      <td>43000.000000</td>\n",
       "      <td>0.000000</td>\n",
       "    </tr>\n",
       "    <tr>\n",
       "      <th>50%</th>\n",
       "      <td>37.000000</td>\n",
       "      <td>70000.000000</td>\n",
       "      <td>0.000000</td>\n",
       "    </tr>\n",
       "    <tr>\n",
       "      <th>75%</th>\n",
       "      <td>46.000000</td>\n",
       "      <td>88000.000000</td>\n",
       "      <td>1.000000</td>\n",
       "    </tr>\n",
       "    <tr>\n",
       "      <th>max</th>\n",
       "      <td>60.000000</td>\n",
       "      <td>150000.000000</td>\n",
       "      <td>1.000000</td>\n",
       "    </tr>\n",
       "  </tbody>\n",
       "</table>\n",
       "</div>"
      ],
      "text/plain": [
       "              Age  EstimatedSalary   Purchased\n",
       "count  400.000000       400.000000  400.000000\n",
       "mean    37.655000     69742.500000    0.357500\n",
       "std     10.482877     34096.960282    0.479864\n",
       "min     18.000000     15000.000000    0.000000\n",
       "25%     29.750000     43000.000000    0.000000\n",
       "50%     37.000000     70000.000000    0.000000\n",
       "75%     46.000000     88000.000000    1.000000\n",
       "max     60.000000    150000.000000    1.000000"
      ]
     },
     "execution_count": 22,
     "metadata": {},
     "output_type": "execute_result"
    }
   ],
   "source": [
    "df.describe()"
   ]
  },
  {
   "cell_type": "markdown",
   "id": "e82af2ec",
   "metadata": {},
   "source": [
    "## effect of outliers"
   ]
  },
  {
   "cell_type": "code",
   "execution_count": 23,
   "id": "f1633c8e",
   "metadata": {},
   "outputs": [
    {
     "name": "stderr",
     "output_type": "stream",
     "text": [
      "C:\\Users\\keskh\\AppData\\Local\\Temp\\ipykernel_12200\\588781334.py:2: FutureWarning: The frame.append method is deprecated and will be removed from pandas in a future version. Use pandas.concat instead.\n",
      "  df = df.append(df_temp, ignore_index=True)\n"
     ]
    },
    {
     "data": {
      "text/html": [
       "<div>\n",
       "<style scoped>\n",
       "    .dataframe tbody tr th:only-of-type {\n",
       "        vertical-align: middle;\n",
       "    }\n",
       "\n",
       "    .dataframe tbody tr th {\n",
       "        vertical-align: top;\n",
       "    }\n",
       "\n",
       "    .dataframe thead th {\n",
       "        text-align: right;\n",
       "    }\n",
       "</style>\n",
       "<table border=\"1\" class=\"dataframe\">\n",
       "  <thead>\n",
       "    <tr style=\"text-align: right;\">\n",
       "      <th></th>\n",
       "      <th>Age</th>\n",
       "      <th>EstimatedSalary</th>\n",
       "      <th>Purchased</th>\n",
       "    </tr>\n",
       "  </thead>\n",
       "  <tbody>\n",
       "    <tr>\n",
       "      <th>0</th>\n",
       "      <td>19</td>\n",
       "      <td>19000</td>\n",
       "      <td>0</td>\n",
       "    </tr>\n",
       "    <tr>\n",
       "      <th>1</th>\n",
       "      <td>35</td>\n",
       "      <td>20000</td>\n",
       "      <td>0</td>\n",
       "    </tr>\n",
       "    <tr>\n",
       "      <th>2</th>\n",
       "      <td>26</td>\n",
       "      <td>43000</td>\n",
       "      <td>0</td>\n",
       "    </tr>\n",
       "    <tr>\n",
       "      <th>3</th>\n",
       "      <td>27</td>\n",
       "      <td>57000</td>\n",
       "      <td>0</td>\n",
       "    </tr>\n",
       "    <tr>\n",
       "      <th>4</th>\n",
       "      <td>19</td>\n",
       "      <td>76000</td>\n",
       "      <td>0</td>\n",
       "    </tr>\n",
       "    <tr>\n",
       "      <th>...</th>\n",
       "      <td>...</td>\n",
       "      <td>...</td>\n",
       "      <td>...</td>\n",
       "    </tr>\n",
       "    <tr>\n",
       "      <th>398</th>\n",
       "      <td>36</td>\n",
       "      <td>33000</td>\n",
       "      <td>0</td>\n",
       "    </tr>\n",
       "    <tr>\n",
       "      <th>399</th>\n",
       "      <td>49</td>\n",
       "      <td>36000</td>\n",
       "      <td>1</td>\n",
       "    </tr>\n",
       "    <tr>\n",
       "      <th>400</th>\n",
       "      <td>5</td>\n",
       "      <td>1000</td>\n",
       "      <td>0</td>\n",
       "    </tr>\n",
       "    <tr>\n",
       "      <th>401</th>\n",
       "      <td>90</td>\n",
       "      <td>250000</td>\n",
       "      <td>1</td>\n",
       "    </tr>\n",
       "    <tr>\n",
       "      <th>402</th>\n",
       "      <td>95</td>\n",
       "      <td>350000</td>\n",
       "      <td>1</td>\n",
       "    </tr>\n",
       "  </tbody>\n",
       "</table>\n",
       "<p>403 rows × 3 columns</p>\n",
       "</div>"
      ],
      "text/plain": [
       "     Age  EstimatedSalary  Purchased\n",
       "0     19            19000          0\n",
       "1     35            20000          0\n",
       "2     26            43000          0\n",
       "3     27            57000          0\n",
       "4     19            76000          0\n",
       "..   ...              ...        ...\n",
       "398   36            33000          0\n",
       "399   49            36000          1\n",
       "400    5             1000          0\n",
       "401   90           250000          1\n",
       "402   95           350000          1\n",
       "\n",
       "[403 rows x 3 columns]"
      ]
     },
     "execution_count": 23,
     "metadata": {},
     "output_type": "execute_result"
    }
   ],
   "source": [
    "df_temp = pd.DataFrame({'Age':[5,90,95],'EstimatedSalary':[1000,250000,350000],'Purchased':[0,1,1]})\n",
    "df = df.append(df_temp, ignore_index=True)\n",
    "df"
   ]
  },
  {
   "cell_type": "code",
   "execution_count": 24,
   "id": "1eb0fac0",
   "metadata": {},
   "outputs": [
    {
     "data": {
      "text/plain": [
       "((282, 2), (121, 2))"
      ]
     },
     "execution_count": 24,
     "metadata": {},
     "output_type": "execute_result"
    }
   ],
   "source": [
    "from sklearn.model_selection import train_test_split\n",
    "X = df.drop('Purchased', axis=1)\n",
    "y = df['Purchased']\n",
    "\n",
    "X_train, X_test, y_train, y_test = train_test_split(X, y, test_size=0.3, random_state=0)\n",
    "\n",
    "X_train.shape, X_test.shape"
   ]
  },
  {
   "cell_type": "code",
   "execution_count": 25,
   "id": "87b355f7",
   "metadata": {},
   "outputs": [],
   "source": [
    "from sklearn.preprocessing import StandardScaler\n",
    "\n",
    "scaler = StandardScaler()\n",
    "\n",
    "# fit the scaler to the train set, it will learn the parameters\n",
    "scaler.fit(X_train)\n",
    "\n",
    "# transform train and test sets\n",
    "X_train_scaled = scaler.transform(X_train)\n",
    "X_test_scaled = scaler.transform(X_test)\n",
    "\n",
    "X_train_scaled = pd.DataFrame(X_train_scaled, columns=X_train.columns)\n",
    "X_test_scaled = pd.DataFrame(X_test_scaled, columns=X_test.columns)"
   ]
  },
  {
   "cell_type": "code",
   "execution_count": 26,
   "id": "6c17e7a1",
   "metadata": {},
   "outputs": [
    {
     "data": {
      "image/png": "[encoded data removed]",
      "text/plain": [
       "<Figure size 864x360 with 2 Axes>"
      ]
     },
     "metadata": {
      "needs_background": "light"
     },
     "output_type": "display_data"
    }
   ],
   "source": [
    "fig, (ax1, ax2) = plt.subplots(ncols=2, figsize=(12, 5))\n",
    "\n",
    "ax1.scatter(X_train['Age'], X_train['EstimatedSalary'])\n",
    "ax1.set_title(\"Before Scaling\")\n",
    "ax2.scatter(X_train_scaled['Age'], X_train_scaled['EstimatedSalary'],color='red')\n",
    "ax2.set_title(\"After Scaling\")\n",
    "plt.show()"
   ]
  },
  {
   "cell_type": "markdown",
   "id": "6cf86912",
   "metadata": {},
   "source": [
    "impact of outliers aren't reduced"
   ]
  },
  {
   "cell_type": "code",
   "execution_count": null,
   "id": "c3dc94a3",
   "metadata": {},
   "outputs": [],
   "source": []
  }
 ],
 "metadata": {
  "kernelspec": {
   "display_name": "Python 3 (ipykernel)",
   "language": "python",
   "name": "python3"
  },
  "language_info": {
   "codemirror_mode": {
    "name": "ipython",
    "version": 3
   },
   "file_extension": ".py",
   "mimetype": "text/x-python",
   "name": "python",
   "nbconvert_exporter": "python",
   "pygments_lexer": "ipython3",
   "version": "3.9.12"
  }
 },
 "nbformat": 4,
 "nbformat_minor": 5
}
