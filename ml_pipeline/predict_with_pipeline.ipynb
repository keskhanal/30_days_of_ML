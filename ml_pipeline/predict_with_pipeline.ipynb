{
 "cells": [
  {
   "cell_type": "markdown",
   "id": "6cf15bc0",
   "metadata": {},
   "source": [
    "### import libraries"
   ]
  },
  {
   "cell_type": "code",
   "execution_count": 1,
   "id": "3fd2454e",
   "metadata": {},
   "outputs": [],
   "source": [
    "import numpy as np\n",
    "import pickle\n",
    "\n",
    "import warnings\n",
    "warnings.filterwarnings(\"ignore\")"
   ]
  },
  {
   "cell_type": "markdown",
   "id": "627aa8b5",
   "metadata": {},
   "source": [
    "### load model"
   ]
  },
  {
   "cell_type": "code",
   "execution_count": 2,
   "id": "0489cb14",
   "metadata": {},
   "outputs": [],
   "source": [
    "pipe = pickle.load(open(\"models/pipe.pkl\", \"rb\"))"
   ]
  },
  {
   "cell_type": "markdown",
   "id": "ebb29053",
   "metadata": {},
   "source": [
    "### Assume user input"
   ]
  },
  {
   "cell_type": "code",
   "execution_count": 7,
   "id": "c69df50b",
   "metadata": {},
   "outputs": [
    {
     "data": {
      "text/plain": [
       "array([[2, 'male', 31.0, 0, 0, 10.5, 'S']], dtype=object)"
      ]
     },
     "execution_count": 7,
     "metadata": {},
     "output_type": "execute_result"
    }
   ],
   "source": [
    "# Pclass/gender/age/SibSp/Parch/Fare/Embarked\n",
    "user_input = np.array([2, 'male', 31.0, 0, 0, 10.5, 'S'], dtype=object).reshape(1,7)\n",
    "user_input"
   ]
  },
  {
   "cell_type": "markdown",
   "id": "af8c7012",
   "metadata": {},
   "source": [
    "### predictions"
   ]
  },
  {
   "cell_type": "code",
   "execution_count": 8,
   "id": "1a0dcd30",
   "metadata": {},
   "outputs": [
    {
     "data": {
      "text/plain": [
       "array([0], dtype=int64)"
      ]
     },
     "execution_count": 8,
     "metadata": {},
     "output_type": "execute_result"
    }
   ],
   "source": [
    "pipe.predict(user_input)"
   ]
  },
  {
   "cell_type": "code",
   "execution_count": null,
   "id": "f6afe79d",
   "metadata": {},
   "outputs": [],
   "source": []
  }
 ],
 "metadata": {
  "kernelspec": {
   "display_name": "Python 3 (ipykernel)",
   "language": "python",
   "name": "python3"
  },
  "language_info": {
   "codemirror_mode": {
    "name": "ipython",
    "version": 3
   },
   "file_extension": ".py",
   "mimetype": "text/x-python",
   "name": "python",
   "nbconvert_exporter": "python",
   "pygments_lexer": "ipython3",
   "version": "3.9.12"
  }
 },
 "nbformat": 4,
 "nbformat_minor": 5
}
