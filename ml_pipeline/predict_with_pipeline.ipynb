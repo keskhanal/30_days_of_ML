{
 "cells": [
  {
   "cell_type": "markdown",
   "id": "56b16457",
   "metadata": {},
   "source": [
    "### import libraries"
   ]
  },
  {
   "cell_type": "code",
   "execution_count": 1,
   "id": "6bb55127",
   "metadata": {},
   "outputs": [],
   "source": [
    "import numpy as np\n",
    "import pickle\n",
    "\n",
    "import warnings\n",
    "warnings.filterwarnings(\"ignore\")"
   ]
  },
  {
   "cell_type": "markdown",
   "id": "9a86e75e",
   "metadata": {},
   "source": [
    "### load model"
   ]
  },
  {
   "cell_type": "code",
   "execution_count": 2,
   "id": "f2b8f25f",
   "metadata": {},
   "outputs": [],
   "source": [
    "pipe = pickle.load(open(\"models/pipe.pkl\", \"rb\"))"
   ]
  },
  {
   "cell_type": "markdown",
   "id": "d13750f2",
   "metadata": {},
   "source": [
    "### Assume user input"
   ]
  },
  {
   "cell_type": "code",
   "execution_count": 3,
   "id": "64fb5225",
   "metadata": {},
   "outputs": [
    {
     "data": {
      "text/plain": [
       "array([[2, 'male', 31.0, 0, 0, 10.5, 'S']], dtype=object)"
      ]
     },
     "execution_count": 3,
     "metadata": {},
     "output_type": "execute_result"
    }
   ],
   "source": [
    "# Pclass/gender/age/SibSp/Parch/Fare/Embarked\n",
    "user_input = np.array([2, 'male', 31.0, 0, 0, 10.5, 'S'], dtype=object).reshape(1,7)\n",
    "user_input"
   ]
  },
  {
   "cell_type": "markdown",
   "id": "0c9db1d3",
   "metadata": {},
   "source": [
    "### predictions"
   ]
  },
  {
   "cell_type": "code",
   "execution_count": 4,
   "id": "0e2fe8f9",
   "metadata": {},
   "outputs": [
    {
     "data": {
      "text/plain": [
       "array([0], dtype=int64)"
      ]
     },
     "execution_count": 4,
     "metadata": {},
     "output_type": "execute_result"
    }
   ],
   "source": [
    "pipe.predict(user_input)"
   ]
  },
  {
   "cell_type": "code",
   "execution_count": null,
   "id": "e9752fae",
   "metadata": {},
   "outputs": [],
   "source": []
  }
 ],
 "metadata": {
  "kernelspec": {
   "display_name": "Python 3 (ipykernel)",
   "language": "python",
   "name": "python3"
  },
  "language_info": {
   "codemirror_mode": {
    "name": "ipython",
    "version": 3
   },
   "file_extension": ".py",
   "mimetype": "text/x-python",
   "name": "python",
   "nbconvert_exporter": "python",
   "pygments_lexer": "ipython3",
   "version": "3.9.12"
  }
 },
 "nbformat": 4,
 "nbformat_minor": 5
}
